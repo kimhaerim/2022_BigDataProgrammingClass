{
 "cells": [
  {
   "cell_type": "markdown",
   "id": "2419548f",
   "metadata": {},
   "source": [
    "# 2주 1강: Python Basics"
   ]
  },
  {
   "cell_type": "markdown",
   "id": "0a7d88ce",
   "metadata": {},
   "source": [
    "# 1. Basics"
   ]
  },
  {
   "cell_type": "code",
   "execution_count": 1,
   "id": "d5241b89",
   "metadata": {},
   "outputs": [],
   "source": [
    "import sys"
   ]
  },
  {
   "cell_type": "code",
   "execution_count": 2,
   "id": "ea6556c0",
   "metadata": {},
   "outputs": [
    {
     "name": "stdout",
     "output_type": "stream",
     "text": [
      "sys.version_info(major=3, minor=9, micro=7, releaselevel='final', serial=0)\n"
     ]
    }
   ],
   "source": [
    "print(sys.version_info)"
   ]
  },
  {
   "cell_type": "code",
   "execution_count": 3,
   "id": "bfa46616",
   "metadata": {},
   "outputs": [],
   "source": [
    "import numpy as np"
   ]
  },
  {
   "cell_type": "code",
   "execution_count": 7,
   "id": "4a3f3132",
   "metadata": {},
   "outputs": [
    {
     "name": "stdout",
     "output_type": "stream",
     "text": [
      "02주차_01_02_PythonBasics.ipynb\r\n"
     ]
    }
   ],
   "source": [
    "!ls"
   ]
  },
  {
   "cell_type": "code",
   "execution_count": 11,
   "id": "6ea73744",
   "metadata": {},
   "outputs": [
    {
     "data": {
      "text/plain": [
       "'/Users/apple/BigDataProgramming'"
      ]
     },
     "execution_count": 11,
     "metadata": {},
     "output_type": "execute_result"
    }
   ],
   "source": [
    "%pwd"
   ]
  },
  {
   "cell_type": "code",
   "execution_count": 14,
   "id": "0afe61f1",
   "metadata": {},
   "outputs": [
    {
     "name": "stdout",
     "output_type": "stream",
     "text": [
      "Variable   Type      Data/Info\n",
      "------------------------------\n",
      "np         module    <module 'numpy' from '/Us<...>kages/numpy/__init__.py'>\n",
      "sys        module    <module 'sys' (built-in)>\n"
     ]
    }
   ],
   "source": [
    "#현재 정의된 변수들 확인하기\n",
    "%whos"
   ]
  },
  {
   "cell_type": "code",
   "execution_count": 15,
   "id": "90e58e87",
   "metadata": {},
   "outputs": [
    {
     "name": "stdout",
     "output_type": "stream",
     "text": [
      "haerim kim\n"
     ]
    }
   ],
   "source": [
    "# 변수를 지정할 때 type을 명시하지 않아도 됨\n",
    "name = \"haerim kim\"\n",
    "print(name)"
   ]
  },
  {
   "cell_type": "code",
   "execution_count": 16,
   "id": "5a98612e",
   "metadata": {},
   "outputs": [
    {
     "data": {
      "text/plain": [
       "str"
      ]
     },
     "execution_count": 16,
     "metadata": {},
     "output_type": "execute_result"
    }
   ],
   "source": [
    "type(name)"
   ]
  },
  {
   "cell_type": "code",
   "execution_count": 18,
   "id": "e2be2922",
   "metadata": {},
   "outputs": [
    {
     "name": "stdout",
     "output_type": "stream",
     "text": [
      "1+2+3=6\n"
     ]
    }
   ],
   "source": [
    "print(1,2,3, sep=\"+\", end=\"=\")\n",
    "print(6)"
   ]
  },
  {
   "cell_type": "markdown",
   "id": "55ac5950",
   "metadata": {},
   "source": [
    "# 2.변수와 사칙연산"
   ]
  },
  {
   "cell_type": "code",
   "execution_count": 19,
   "id": "b5f96d5e",
   "metadata": {},
   "outputs": [],
   "source": [
    "var1 = 100 # int\n",
    "var2 = 100.1 # float\n",
    "var3 = \"String\" # string\n",
    "var4 = [100,100] # list\n",
    "var5 = {1:100, 2:200} # dictionary -> colllections OrderDict (key가 순서대로), defaultDict (key가 없을 때 기본값) -> hash\n",
    "var6 = {100,200,300} # set -> balanced tree\n",
    "var7 = (10,20,30) # tuple, 한 번 정의하면 값을 바꾸지 못함"
   ]
  },
  {
   "cell_type": "code",
   "execution_count": 20,
   "id": "c4c5348a",
   "metadata": {},
   "outputs": [],
   "source": [
    "# \"식별자\"\n",
    "# 1. 소문자, 대문자, 숫자, _만 가능\n",
    "# 2. 맨 앞에 숫자는 불가함\n",
    "# 3. 맨 앞의 _는 private(_), protected(__) 역할을 함.\n",
    "# 4. def, class, try, except, if -> 기본 예약어는 쓰지 못함"
   ]
  },
  {
   "cell_type": "code",
   "execution_count": 21,
   "id": "0bd78bb5",
   "metadata": {},
   "outputs": [
    {
     "name": "stdout",
     "output_type": "stream",
     "text": [
      "10 + 4 =  14\n",
      "10 - 4 =  6\n",
      "10 * 4 =  40\n",
      "10 / 4 =  2.5\n",
      "10 % 4 =  2\n",
      "10 // 4 =  2\n",
      "10.0 // 4.0 =  2.0\n",
      "10 ** 4 =  10000\n"
     ]
    }
   ],
   "source": [
    "# + - * / % // **\n",
    "print(\"10 + 4 = \", 10 + 4)\n",
    "print(\"10 - 4 = \", 10 - 4)\n",
    "print(\"10 * 4 = \", 10 * 4)\n",
    "print(\"10 / 4 = \", 10 / 4)\n",
    "print(\"10 % 4 = \", 10 % 4)\n",
    "print(\"10 // 4 = \", 10 // 4) # 나눗셈의 소숫점 아래를 버립니다 (몫만 나옵니다.)\n",
    "print(\"10.0 // 4.0 = \", 10.0 // 4.0) # integer는 integer로, float은 float으로 나옵니다. \n",
    "print(\"10 ** 4 = \", 10 ** 4)"
   ]
  },
  {
   "cell_type": "code",
   "execution_count": 22,
   "id": "493fa4bd",
   "metadata": {},
   "outputs": [
    {
     "name": "stdout",
     "output_type": "stream",
     "text": [
      "9223372036854775807\n"
     ]
    }
   ],
   "source": [
    "import sys\n",
    "print(sys.maxsize) #int의 max사이즈, 2^64의 정수를 가질 수 있음"
   ]
  },
  {
   "cell_type": "code",
   "execution_count": 24,
   "id": "ea63a133",
   "metadata": {},
   "outputs": [
    {
     "name": "stdout",
     "output_type": "stream",
     "text": [
      "9223372036854775807 9223372036854775807\n"
     ]
    }
   ],
   "source": [
    "print(sys.maxsize, 2**63-1)"
   ]
  },
  {
   "cell_type": "code",
   "execution_count": 31,
   "id": "708df926",
   "metadata": {},
   "outputs": [],
   "source": [
    "# numpy를 쓸 때는 변수형에 따라 주의해야 합니다. 예를 들어 int64라면 에러가 납니다.\n",
    "# 이는 numpy의 내부는 C++로 구현되어 있기 때문입니다. \n",
    "# np.int64(intvar+1)"
   ]
  },
  {
   "cell_type": "markdown",
   "id": "be6ab0f4",
   "metadata": {},
   "source": [
    "# 3. 문자열"
   ]
  },
  {
   "cell_type": "code",
   "execution_count": 32,
   "id": "43a40315",
   "metadata": {},
   "outputs": [],
   "source": [
    "import numpy as np"
   ]
  },
  {
   "cell_type": "code",
   "execution_count": 33,
   "id": "dc53ed3a",
   "metadata": {},
   "outputs": [],
   "source": [
    "simple_string = \"String, 스트링\""
   ]
  },
  {
   "cell_type": "code",
   "execution_count": 34,
   "id": "4a27d0d2",
   "metadata": {},
   "outputs": [],
   "source": [
    "multiline_string = \"안녕하세요\\n여러줄을\\n이렇게\\n쓰면\\n됩니다\""
   ]
  },
  {
   "cell_type": "code",
   "execution_count": 37,
   "id": "be478bc7",
   "metadata": {},
   "outputs": [
    {
     "name": "stdout",
     "output_type": "stream",
     "text": [
      "안녕하세요\n",
      "여러줄을\n",
      "이렇게\n",
      "쓰면\n",
      "됩니다\n"
     ]
    }
   ],
   "source": [
    "print(multiline_string)"
   ]
  },
  {
   "cell_type": "code",
   "execution_count": 39,
   "id": "c922d426",
   "metadata": {},
   "outputs": [
    {
     "name": "stdout",
     "output_type": "stream",
     "text": [
      "문장의 끝을 줄바꿈을 하고 싶지 않으면       end를 쓰면 됨\n"
     ]
    }
   ],
   "source": [
    "print(\"문장의 끝을 줄바꿈을 하고 싶지 않으면\", end =\"       \")\n",
    "print(\"end를 쓰면 됨\")"
   ]
  },
  {
   "cell_type": "code",
   "execution_count": 40,
   "id": "c729d762",
   "metadata": {},
   "outputs": [
    {
     "name": "stdout",
     "output_type": "stream",
     "text": [
      "안녕하세요 빅데이터 강의입니다\n"
     ]
    }
   ],
   "source": [
    "print(\"안녕하세요 \" + \"빅데이터 강의입니다\")"
   ]
  },
  {
   "cell_type": "code",
   "execution_count": 45,
   "id": "dd642f67",
   "metadata": {},
   "outputs": [
    {
     "name": "stdout",
     "output_type": "stream",
     "text": [
      "입력한 변수는 100입니다\n",
      "입력한 변수는 300입니다\n"
     ]
    }
   ],
   "source": [
    "# f-string\n",
    "var = 100\n",
    "var1 = 200\n",
    "print(f\"입력한 변수는 {var}입니다\")\n",
    "print(f\"입력한 변수는 {var+var1}입니다\")"
   ]
  },
  {
   "cell_type": "markdown",
   "id": "78f95bd5",
   "metadata": {},
   "source": [
    "# 3. List"
   ]
  },
  {
   "cell_type": "code",
   "execution_count": 46,
   "id": "69bf1aa8",
   "metadata": {},
   "outputs": [],
   "source": [
    "class_list = [\"자료구조\", \"빅데이터프로그래밍\", \"확률과통계\", \"이산수학\", \"고급프로그래밍\"]"
   ]
  },
  {
   "cell_type": "code",
   "execution_count": 47,
   "id": "fc36c695",
   "metadata": {},
   "outputs": [
    {
     "name": "stdout",
     "output_type": "stream",
     "text": [
      "['빅데이터프로그래밍', '확률과통계']\n"
     ]
    }
   ],
   "source": [
    "print(class_list[1:3])"
   ]
  },
  {
   "cell_type": "code",
   "execution_count": 48,
   "id": "a28e3f45",
   "metadata": {},
   "outputs": [
    {
     "name": "stdout",
     "output_type": "stream",
     "text": [
      "['자료구조', '확률과통계', '고급프로그래밍']\n"
     ]
    }
   ],
   "source": [
    "print(class_list[::2])"
   ]
  },
  {
   "cell_type": "code",
   "execution_count": 49,
   "id": "7196bd85",
   "metadata": {},
   "outputs": [
    {
     "name": "stdout",
     "output_type": "stream",
     "text": [
      "고급프로그래밍\n"
     ]
    }
   ],
   "source": [
    "print(class_list[-1])"
   ]
  },
  {
   "cell_type": "code",
   "execution_count": 51,
   "id": "1654e598",
   "metadata": {},
   "outputs": [],
   "source": [
    "homework_list = [\"Github가입\", \"Python설치\", \"문제 풀기\"]\n",
    "this_week = [class_list, homework_list]"
   ]
  },
  {
   "cell_type": "code",
   "execution_count": 52,
   "id": "c2a454c3",
   "metadata": {},
   "outputs": [
    {
     "data": {
      "text/plain": [
       "[['자료구조', '빅데이터프로그래밍', '확률과통계', '이산수학', '고급프로그래밍'],\n",
       " ['Github가입', 'Python설치', '문제 풀기']]"
      ]
     },
     "execution_count": 52,
     "metadata": {},
     "output_type": "execute_result"
    }
   ],
   "source": [
    "this_week"
   ]
  },
  {
   "cell_type": "code",
   "execution_count": 56,
   "id": "5b5d0c54",
   "metadata": {},
   "outputs": [],
   "source": [
    "homework_list.append(\"푹 쉬기\")\n",
    "# append를 통해 맨 뒤에 element를 추가할 수 있습니다.\n",
    "# 중요: list의 이름은 C++의 pointer같이 자료의 메모리상 위치를 다룹니다. \n",
    "# 그래서 this_week의 내용도 바뀌어 있습니다."
   ]
  },
  {
   "cell_type": "code",
   "execution_count": 55,
   "id": "c686cdef",
   "metadata": {},
   "outputs": [
    {
     "data": {
      "text/plain": [
       "[['자료구조', '빅데이터프로그래밍', '확률과통계', '이산수학', '고급프로그래밍'],\n",
       " ['Github가입', 'Python설치', '문제 풀기', '푹 쉬기']]"
      ]
     },
     "execution_count": 55,
     "metadata": {},
     "output_type": "execute_result"
    }
   ],
   "source": [
    "this_week "
   ]
  },
  {
   "cell_type": "code",
   "execution_count": 57,
   "id": "d182da7d",
   "metadata": {},
   "outputs": [],
   "source": [
    "homework_list.append(2)"
   ]
  },
  {
   "cell_type": "code",
   "execution_count": 58,
   "id": "73a6f751",
   "metadata": {},
   "outputs": [
    {
     "data": {
      "text/plain": [
       "[['자료구조', '빅데이터프로그래밍', '확률과통계', '이산수학', '고급프로그래밍'],\n",
       " ['Github가입', 'Python설치', '문제 풀기', '푹 쉬기', '푹 쉬기', 2]]"
      ]
     },
     "execution_count": 58,
     "metadata": {},
     "output_type": "execute_result"
    }
   ],
   "source": [
    "this_week # int형도 들어감, 유연함ㅁ"
   ]
  },
  {
   "cell_type": "code",
   "execution_count": 62,
   "id": "f7476478",
   "metadata": {},
   "outputs": [],
   "source": [
    "sample_list = [\"A\", \"A\", \"B\", \"A\"]"
   ]
  },
  {
   "cell_type": "code",
   "execution_count": 61,
   "id": "ec0ea2a3",
   "metadata": {},
   "outputs": [
    {
     "data": {
      "text/plain": [
       "['A', 'A', 'A', 'B']"
      ]
     },
     "execution_count": 61,
     "metadata": {},
     "output_type": "execute_result"
    }
   ],
   "source": [
    "sample_list.sort()\n",
    "sample_list # 원본 데이터는 sort 됨"
   ]
  },
  {
   "cell_type": "code",
   "execution_count": 68,
   "id": "9ea1f717",
   "metadata": {},
   "outputs": [
    {
     "data": {
      "text/plain": [
       "['A', 'A', 'A', 'B']"
      ]
     },
     "execution_count": 68,
     "metadata": {},
     "output_type": "execute_result"
    }
   ],
   "source": [
    "sample_list = [\"A\", \"A\", \"B\", \"A\"]\n",
    "sorted(sample_list) # 원본 데이터는 sort되지 않음"
   ]
  },
  {
   "cell_type": "code",
   "execution_count": 69,
   "id": "5634b793",
   "metadata": {},
   "outputs": [
    {
     "data": {
      "text/plain": [
       "['A', 'A', 'B', 'A']"
      ]
     },
     "execution_count": 69,
     "metadata": {},
     "output_type": "execute_result"
    }
   ],
   "source": [
    "sample_list"
   ]
  },
  {
   "cell_type": "code",
   "execution_count": 70,
   "id": "18200985",
   "metadata": {},
   "outputs": [
    {
     "data": {
      "text/plain": [
       "['A', 'A', 'B']"
      ]
     },
     "execution_count": 70,
     "metadata": {},
     "output_type": "execute_result"
    }
   ],
   "source": [
    "del(sample_list[3]) # 인덱스 지우기\n",
    "sample_list"
   ]
  },
  {
   "cell_type": "code",
   "execution_count": 74,
   "id": "ad4184cd",
   "metadata": {},
   "outputs": [
    {
     "data": {
      "text/plain": [
       "['A', 'A', 'B', 'A', 'A', 'A', 'B', 'A']"
      ]
     },
     "execution_count": 74,
     "metadata": {},
     "output_type": "execute_result"
    }
   ],
   "source": [
    "sample_list = [\"A\", \"A\", \"B\", \"A\"]\n",
    "sample_list2 = [\"A\", \"A\", \"B\", \"A\"]\n",
    "newlist = sample_list + sample_list2\n",
    "newlist\n",
    "# list도 사칙연산이 가능함"
   ]
  },
  {
   "cell_type": "code",
   "execution_count": 75,
   "id": "298eb96b",
   "metadata": {},
   "outputs": [],
   "source": [
    "newlist = [sample_list] * 10"
   ]
  },
  {
   "cell_type": "code",
   "execution_count": 76,
   "id": "76281e8d",
   "metadata": {},
   "outputs": [
    {
     "data": {
      "text/plain": [
       "[['A', 'A', 'B', 'A'],\n",
       " ['A', 'A', 'B', 'A'],\n",
       " ['A', 'A', 'B', 'A'],\n",
       " ['A', 'A', 'B', 'A'],\n",
       " ['A', 'A', 'B', 'A'],\n",
       " ['A', 'A', 'B', 'A'],\n",
       " ['A', 'A', 'B', 'A'],\n",
       " ['A', 'A', 'B', 'A'],\n",
       " ['A', 'A', 'B', 'A'],\n",
       " ['A', 'A', 'B', 'A']]"
      ]
     },
     "execution_count": 76,
     "metadata": {},
     "output_type": "execute_result"
    }
   ],
   "source": [
    "newlist"
   ]
  },
  {
   "cell_type": "code",
   "execution_count": 77,
   "id": "587383c4",
   "metadata": {},
   "outputs": [],
   "source": [
    "newlist[0][1] = \"C\""
   ]
  },
  {
   "cell_type": "code",
   "execution_count": 78,
   "id": "c5ffeb27",
   "metadata": {},
   "outputs": [
    {
     "data": {
      "text/plain": [
       "[['A', 'C', 'B', 'A'],\n",
       " ['A', 'C', 'B', 'A'],\n",
       " ['A', 'C', 'B', 'A'],\n",
       " ['A', 'C', 'B', 'A'],\n",
       " ['A', 'C', 'B', 'A'],\n",
       " ['A', 'C', 'B', 'A'],\n",
       " ['A', 'C', 'B', 'A'],\n",
       " ['A', 'C', 'B', 'A'],\n",
       " ['A', 'C', 'B', 'A'],\n",
       " ['A', 'C', 'B', 'A']]"
      ]
     },
     "execution_count": 78,
     "metadata": {},
     "output_type": "execute_result"
    }
   ],
   "source": [
    "newlist # 주소가 같기 때문에 모든 데이터가 변경됨"
   ]
  },
  {
   "cell_type": "code",
   "execution_count": 80,
   "id": "ed264284",
   "metadata": {},
   "outputs": [
    {
     "data": {
      "text/plain": [
       "10"
      ]
     },
     "execution_count": 80,
     "metadata": {},
     "output_type": "execute_result"
    }
   ],
   "source": [
    "len(newlist)"
   ]
  },
  {
   "cell_type": "code",
   "execution_count": 81,
   "id": "d7cb20ea",
   "metadata": {},
   "outputs": [
    {
     "data": {
      "text/plain": [
       "'C'"
      ]
     },
     "execution_count": 81,
     "metadata": {},
     "output_type": "execute_result"
    }
   ],
   "source": [
    "max(sample_list)"
   ]
  },
  {
   "cell_type": "code",
   "execution_count": 82,
   "id": "41d998b5",
   "metadata": {},
   "outputs": [
    {
     "data": {
      "text/plain": [
       "'A'"
      ]
     },
     "execution_count": 82,
     "metadata": {},
     "output_type": "execute_result"
    }
   ],
   "source": [
    "min(sample_list)"
   ]
  },
  {
   "cell_type": "code",
   "execution_count": 83,
   "id": "919a161a",
   "metadata": {},
   "outputs": [
    {
     "data": {
      "text/plain": [
       "['확률및통계', 3, ['테스트', 1234], '선생님']"
      ]
     },
     "execution_count": 83,
     "metadata": {},
     "output_type": "execute_result"
    }
   ],
   "source": [
    "[\"확률및통계\", 3, [\"테스트\", 1234], \"선생님\"] # 같은 형태의 자료형이 아니더라도 list를 만들 수 있습니다"
   ]
  },
  {
   "cell_type": "markdown",
   "id": "18e440db",
   "metadata": {},
   "source": [
    "# 5. tuple"
   ]
  },
  {
   "cell_type": "code",
   "execution_count": 87,
   "id": "6323e1e5",
   "metadata": {},
   "outputs": [],
   "source": [
    "pi = (3,1,4,1,5,9)\n",
    "list_pi = list(pi)\n",
    "# 리스트와 typecast로 변환이 가능합니다."
   ]
  },
  {
   "cell_type": "code",
   "execution_count": 88,
   "id": "1ed9828e",
   "metadata": {},
   "outputs": [
    {
     "name": "stdout",
     "output_type": "stream",
     "text": [
      "<class 'tuple'>\n",
      "<class 'list'>\n"
     ]
    }
   ],
   "source": [
    "print(type(pi))\n",
    "print(type(list_pi))"
   ]
  },
  {
   "cell_type": "markdown",
   "id": "c557992b",
   "metadata": {},
   "source": [
    "# 6. set / dictionary"
   ]
  },
  {
   "cell_type": "code",
   "execution_count": 89,
   "id": "b1d44ad5",
   "metadata": {},
   "outputs": [],
   "source": [
    "# tuple / list -> 순서가 존재함\n",
    "# set / dictionary -> 순서가 없음\n",
    "# set -> 값만 (value)\n",
    "# dict -> key:value "
   ]
  },
  {
   "cell_type": "code",
   "execution_count": 92,
   "id": "e6675608",
   "metadata": {},
   "outputs": [
    {
     "name": "stdout",
     "output_type": "stream",
     "text": [
      "<class 'set'>\n",
      "{'bbb', 'aaa', 'ccc'}\n"
     ]
    }
   ],
   "source": [
    "attendence_set = {\"aaa\", \"bbb\", \"ccc\"}\n",
    "print(type(attendence_set))\n",
    "print(attendence_set)"
   ]
  },
  {
   "cell_type": "code",
   "execution_count": 94,
   "id": "07bc39bd",
   "metadata": {},
   "outputs": [
    {
     "data": {
      "text/plain": [
       "{'aaa', 'bbb', 'ccc'}"
      ]
     },
     "execution_count": 94,
     "metadata": {},
     "output_type": "execute_result"
    }
   ],
   "source": [
    "attendence_set2 = {\"aaa\", \"bbb\", \"ccc\", \"ccc\"}\n",
    "attendence_set2\n",
    "# 중복이 허용되지 않음"
   ]
  },
  {
   "cell_type": "code",
   "execution_count": 95,
   "id": "d2f55b09",
   "metadata": {},
   "outputs": [],
   "source": [
    "student_number = {\"aaa\":1, \"bbb\":2, \"ccc\":3}"
   ]
  },
  {
   "cell_type": "code",
   "execution_count": 96,
   "id": "e89b2195",
   "metadata": {},
   "outputs": [
    {
     "name": "stdout",
     "output_type": "stream",
     "text": [
      "<class 'dict'>\n",
      "{'aaa': 1, 'bbb': 2, 'ccc': 3}\n"
     ]
    }
   ],
   "source": [
    "print(type(student_number))\n",
    "print(student_number)"
   ]
  },
  {
   "cell_type": "code",
   "execution_count": 98,
   "id": "758fd876",
   "metadata": {},
   "outputs": [
    {
     "data": {
      "text/plain": [
       "1"
      ]
     },
     "execution_count": 98,
     "metadata": {},
     "output_type": "execute_result"
    }
   ],
   "source": [
    "student_number[\"aaa\"]"
   ]
  },
  {
   "cell_type": "code",
   "execution_count": 99,
   "id": "4b365256",
   "metadata": {},
   "outputs": [],
   "source": [
    "student_number[\"aaa\"] = 5"
   ]
  },
  {
   "cell_type": "code",
   "execution_count": 101,
   "id": "671b49d1",
   "metadata": {},
   "outputs": [
    {
     "data": {
      "text/plain": [
       "{'aaa': 5, 'bbb': 2, 'ccc': 3}"
      ]
     },
     "execution_count": 101,
     "metadata": {},
     "output_type": "execute_result"
    }
   ],
   "source": [
    "student_number"
   ]
  },
  {
   "cell_type": "code",
   "execution_count": 103,
   "id": "05534e92",
   "metadata": {},
   "outputs": [],
   "source": [
    "cafe = {(\"커피\", 10000):10} # key로 tuple도 가능함, List는 값을 변경할 수 있기 때문에 불가함"
   ]
  },
  {
   "cell_type": "code",
   "execution_count": 106,
   "id": "5ca22d93",
   "metadata": {},
   "outputs": [
    {
     "data": {
      "text/plain": [
       "dict_items([('aaa', 5), ('bbb', 2), ('ccc', 3)])"
      ]
     },
     "execution_count": 106,
     "metadata": {},
     "output_type": "execute_result"
    }
   ],
   "source": [
    "student_number.items() # 조회"
   ]
  },
  {
   "cell_type": "code",
   "execution_count": 107,
   "id": "4dcfc436",
   "metadata": {},
   "outputs": [
    {
     "data": {
      "text/plain": [
       "dict_keys(['aaa', 'bbb', 'ccc'])"
      ]
     },
     "execution_count": 107,
     "metadata": {},
     "output_type": "execute_result"
    }
   ],
   "source": [
    "student_number.keys()"
   ]
  },
  {
   "cell_type": "code",
   "execution_count": 108,
   "id": "a1947494",
   "metadata": {},
   "outputs": [
    {
     "data": {
      "text/plain": [
       "dict_values([5, 2, 3])"
      ]
     },
     "execution_count": 108,
     "metadata": {},
     "output_type": "execute_result"
    }
   ],
   "source": [
    "student_number.values()"
   ]
  },
  {
   "cell_type": "code",
   "execution_count": null,
   "id": "5a2b4ba0",
   "metadata": {},
   "outputs": [],
   "source": []
  }
 ],
 "metadata": {
  "kernelspec": {
   "display_name": "Python 3 (ipykernel)",
   "language": "python",
   "name": "python3"
  },
  "language_info": {
   "codemirror_mode": {
    "name": "ipython",
    "version": 3
   },
   "file_extension": ".py",
   "mimetype": "text/x-python",
   "name": "python",
   "nbconvert_exporter": "python",
   "pygments_lexer": "ipython3",
   "version": "3.9.7"
  }
 },
 "nbformat": 4,
 "nbformat_minor": 5
}
