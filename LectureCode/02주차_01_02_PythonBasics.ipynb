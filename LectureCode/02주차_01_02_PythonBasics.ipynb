{
 "cells": [
  {
   "cell_type": "markdown",
   "id": "2419548f",
   "metadata": {},
   "source": [
    "# 2주 1강: Python Basics"
   ]
  },
  {
   "cell_type": "markdown",
   "id": "0a7d88ce",
   "metadata": {},
   "source": [
    "# 1. Basics"
   ]
  },
  {
   "cell_type": "code",
   "execution_count": 1,
   "id": "d5241b89",
   "metadata": {},
   "outputs": [],
   "source": [
    "import sys"
   ]
  },
  {
   "cell_type": "code",
   "execution_count": 2,
   "id": "ea6556c0",
   "metadata": {},
   "outputs": [
    {
     "name": "stdout",
     "output_type": "stream",
     "text": [
      "sys.version_info(major=3, minor=9, micro=7, releaselevel='final', serial=0)\n"
     ]
    }
   ],
   "source": [
    "print(sys.version_info)"
   ]
  },
  {
   "cell_type": "code",
   "execution_count": 3,
   "id": "bfa46616",
   "metadata": {},
   "outputs": [],
   "source": [
    "import numpy as np"
   ]
  },
  {
   "cell_type": "code",
   "execution_count": 7,
   "id": "4a3f3132",
   "metadata": {},
   "outputs": [
    {
     "name": "stdout",
     "output_type": "stream",
     "text": [
      "02주차_01_02_PythonBasics.ipynb\r\n"
     ]
    }
   ],
   "source": [
    "!ls"
   ]
  },
  {
   "cell_type": "code",
   "execution_count": 11,
   "id": "6ea73744",
   "metadata": {},
   "outputs": [
    {
     "data": {
      "text/plain": [
       "'/Users/apple/BigDataProgramming'"
      ]
     },
     "execution_count": 11,
     "metadata": {},
     "output_type": "execute_result"
    }
   ],
   "source": [
    "%pwd"
   ]
  },
  {
   "cell_type": "code",
   "execution_count": 14,
   "id": "0afe61f1",
   "metadata": {},
   "outputs": [
    {
     "name": "stdout",
     "output_type": "stream",
     "text": [
      "Variable   Type      Data/Info\n",
      "------------------------------\n",
      "np         module    <module 'numpy' from '/Us<...>kages/numpy/__init__.py'>\n",
      "sys        module    <module 'sys' (built-in)>\n"
     ]
    }
   ],
   "source": [
    "#현재 정의된 변수들 확인하기\n",
    "%whos"
   ]
  },
  {
   "cell_type": "code",
   "execution_count": 15,
   "id": "90e58e87",
   "metadata": {},
   "outputs": [
    {
     "name": "stdout",
     "output_type": "stream",
     "text": [
      "haerim kim\n"
     ]
    }
   ],
   "source": [
    "# 변수를 지정할 때 type을 명시하지 않아도 됨\n",
    "name = \"haerim kim\"\n",
    "print(name)"
   ]
  },
  {
   "cell_type": "code",
   "execution_count": 16,
   "id": "5a98612e",
   "metadata": {},
   "outputs": [
    {
     "data": {
      "text/plain": [
       "str"
      ]
     },
     "execution_count": 16,
     "metadata": {},
     "output_type": "execute_result"
    }
   ],
   "source": [
    "type(name)"
   ]
  },
  {
   "cell_type": "code",
   "execution_count": 18,
   "id": "e2be2922",
   "metadata": {},
   "outputs": [
    {
     "name": "stdout",
     "output_type": "stream",
     "text": [
      "1+2+3=6\n"
     ]
    }
   ],
   "source": [
    "print(1,2,3, sep=\"+\", end=\"=\")\n",
    "print(6)"
   ]
  },
  {
   "cell_type": "markdown",
   "id": "55ac5950",
   "metadata": {},
   "source": [
    "# 2.변수와 사칙연산"
   ]
  },
  {
   "cell_type": "code",
   "execution_count": 19,
   "id": "b5f96d5e",
   "metadata": {},
   "outputs": [],
   "source": [
    "var1 = 100 # int\n",
    "var2 = 100.1 # float\n",
    "var3 = \"String\" # string\n",
    "var4 = [100,100] # list\n",
    "var5 = {1:100, 2:200} # dictionary -> colllections OrderDict (key가 순서대로), defaultDict (key가 없을 때 기본값) -> hash\n",
    "var6 = {100,200,300} # set -> balanced tree\n",
    "var7 = (10,20,30) # tuple, 한 번 정의하면 값을 바꾸지 못함"
   ]
  },
  {
   "cell_type": "code",
   "execution_count": 20,
   "id": "c4c5348a",
   "metadata": {},
   "outputs": [],
   "source": [
    "# \"식별자\"\n",
    "# 1. 소문자, 대문자, 숫자, _만 가능\n",
    "# 2. 맨 앞에 숫자는 불가함\n",
    "# 3. 맨 앞의 _는 private(_), protected(__) 역할을 함.\n",
    "# 4. def, class, try, except, if -> 기본 예약어는 쓰지 못함"
   ]
  },
  {
   "cell_type": "code",
   "execution_count": 21,
   "id": "0bd78bb5",
   "metadata": {},
   "outputs": [
    {
     "name": "stdout",
     "output_type": "stream",
     "text": [
      "10 + 4 =  14\n",
      "10 - 4 =  6\n",
      "10 * 4 =  40\n",
      "10 / 4 =  2.5\n",
      "10 % 4 =  2\n",
      "10 // 4 =  2\n",
      "10.0 // 4.0 =  2.0\n",
      "10 ** 4 =  10000\n"
     ]
    }
   ],
   "source": [
    "# + - * / % // **\n",
    "print(\"10 + 4 = \", 10 + 4)\n",
    "print(\"10 - 4 = \", 10 - 4)\n",
    "print(\"10 * 4 = \", 10 * 4)\n",
    "print(\"10 / 4 = \", 10 / 4)\n",
    "print(\"10 % 4 = \", 10 % 4)\n",
    "print(\"10 // 4 = \", 10 // 4) # 나눗셈의 소숫점 아래를 버림 (몫)\n",
    "print(\"10.0 // 4.0 = \", 10.0 // 4.0) # integer는 integer로, float은 float으로 나옴 \n",
    "print(\"10 ** 4 = \", 10 ** 4)"
   ]
  },
  {
   "cell_type": "code",
   "execution_count": 22,
   "id": "493fa4bd",
   "metadata": {},
   "outputs": [
    {
     "name": "stdout",
     "output_type": "stream",
     "text": [
      "9223372036854775807\n"
     ]
    }
   ],
   "source": [
    "import sys\n",
    "print(sys.maxsize) #int의 max사이즈, 2^64의 정수를 가질 수 있음"
   ]
  },
  {
   "cell_type": "code",
   "execution_count": 24,
   "id": "ea63a133",
   "metadata": {},
   "outputs": [
    {
     "name": "stdout",
     "output_type": "stream",
     "text": [
      "9223372036854775807 9223372036854775807\n"
     ]
    }
   ],
   "source": [
    "print(sys.maxsize, 2**63-1)"
   ]
  },
  {
   "cell_type": "code",
   "execution_count": 31,
   "id": "708df926",
   "metadata": {},
   "outputs": [],
   "source": [
    "# numpy를 쓸 때는 변수형에 따라 주의 필요. 예를 들어 int64라면 에러가 발생\n",
    "# 이는 numpy의 내부는 C++로 구현되어 있음\n",
    "# np.int64(intvar+1)"
   ]
  },
  {
   "cell_type": "markdown",
   "id": "be6ab0f4",
   "metadata": {},
   "source": [
    "# 3. 문자열"
   ]
  },
  {
   "cell_type": "code",
   "execution_count": 32,
   "id": "43a40315",
   "metadata": {},
   "outputs": [],
   "source": [
    "import numpy as np"
   ]
  },
  {
   "cell_type": "code",
   "execution_count": 33,
   "id": "dc53ed3a",
   "metadata": {},
   "outputs": [],
   "source": [
    "simple_string = \"String, 스트링\""
   ]
  },
  {
   "cell_type": "code",
   "execution_count": 34,
   "id": "4a27d0d2",
   "metadata": {},
   "outputs": [],
   "source": [
    "multiline_string = \"안녕하세요\\n여러줄을\\n이렇게\\n쓰면\\n됩니다\""
   ]
  },
  {
   "cell_type": "code",
   "execution_count": 37,
   "id": "be478bc7",
   "metadata": {},
   "outputs": [
    {
     "name": "stdout",
     "output_type": "stream",
     "text": [
      "안녕하세요\n",
      "여러줄을\n",
      "이렇게\n",
      "쓰면\n",
      "됩니다\n"
     ]
    }
   ],
   "source": [
    "print(multiline_string)"
   ]
  },
  {
   "cell_type": "code",
   "execution_count": 39,
   "id": "c922d426",
   "metadata": {},
   "outputs": [
    {
     "name": "stdout",
     "output_type": "stream",
     "text": [
      "문장의 끝을 줄바꿈을 하고 싶지 않으면       end를 쓰면 됨\n"
     ]
    }
   ],
   "source": [
    "print(\"문장의 끝을 줄바꿈을 하고 싶지 않으면\", end =\"       \")\n",
    "print(\"end를 쓰면 됨\")"
   ]
  },
  {
   "cell_type": "code",
   "execution_count": 40,
   "id": "c729d762",
   "metadata": {},
   "outputs": [
    {
     "name": "stdout",
     "output_type": "stream",
     "text": [
      "안녕하세요 빅데이터 강의입니다\n"
     ]
    }
   ],
   "source": [
    "print(\"안녕하세요 \" + \"빅데이터 강의입니다\")"
   ]
  },
  {
   "cell_type": "code",
   "execution_count": 45,
   "id": "dd642f67",
   "metadata": {},
   "outputs": [
    {
     "name": "stdout",
     "output_type": "stream",
     "text": [
      "입력한 변수는 100입니다\n",
      "입력한 변수는 300입니다\n"
     ]
    }
   ],
   "source": [
    "# f-string\n",
    "var = 100\n",
    "var1 = 200\n",
    "print(f\"입력한 변수는 {var}입니다\")\n",
    "print(f\"입력한 변수는 {var+var1}입니다\")"
   ]
  },
  {
   "cell_type": "markdown",
   "id": "78f95bd5",
   "metadata": {},
   "source": [
    "# 3. List"
   ]
  },
  {
   "cell_type": "code",
   "execution_count": 46,
   "id": "69bf1aa8",
   "metadata": {},
   "outputs": [],
   "source": [
    "class_list = [\"자료구조\", \"빅데이터프로그래밍\", \"확률과통계\", \"이산수학\", \"고급프로그래밍\"]"
   ]
  },
  {
   "cell_type": "code",
   "execution_count": 47,
   "id": "fc36c695",
   "metadata": {},
   "outputs": [
    {
     "name": "stdout",
     "output_type": "stream",
     "text": [
      "['빅데이터프로그래밍', '확률과통계']\n"
     ]
    }
   ],
   "source": [
    "print(class_list[1:3])"
   ]
  },
  {
   "cell_type": "code",
   "execution_count": 48,
   "id": "a28e3f45",
   "metadata": {},
   "outputs": [
    {
     "name": "stdout",
     "output_type": "stream",
     "text": [
      "['자료구조', '확률과통계', '고급프로그래밍']\n"
     ]
    }
   ],
   "source": [
    "print(class_list[::2])"
   ]
  },
  {
   "cell_type": "code",
   "execution_count": 49,
   "id": "7196bd85",
   "metadata": {},
   "outputs": [
    {
     "name": "stdout",
     "output_type": "stream",
     "text": [
      "고급프로그래밍\n"
     ]
    }
   ],
   "source": [
    "print(class_list[-1])"
   ]
  },
  {
   "cell_type": "code",
   "execution_count": 51,
   "id": "1654e598",
   "metadata": {},
   "outputs": [],
   "source": [
    "homework_list = [\"Github가입\", \"Python설치\", \"문제 풀기\"]\n",
    "this_week = [class_list, homework_list]"
   ]
  },
  {
   "cell_type": "code",
   "execution_count": 52,
   "id": "c2a454c3",
   "metadata": {},
   "outputs": [
    {
     "data": {
      "text/plain": [
       "[['자료구조', '빅데이터프로그래밍', '확률과통계', '이산수학', '고급프로그래밍'],\n",
       " ['Github가입', 'Python설치', '문제 풀기']]"
      ]
     },
     "execution_count": 52,
     "metadata": {},
     "output_type": "execute_result"
    }
   ],
   "source": [
    "this_week"
   ]
  },
  {
   "cell_type": "code",
   "execution_count": 56,
   "id": "5b5d0c54",
   "metadata": {},
   "outputs": [],
   "source": [
    "homework_list.append(\"푹 쉬기\")\n",
    "# append를 통해 맨 뒤에 element를 추가 가능\n",
    "# 중요: list의 이름은 C++의 pointer같이 자료의 메모리상 위치를 다룸 \n",
    "# 그래서 this_week의 내용도 바뀌어 있음"
   ]
  },
  {
   "cell_type": "code",
   "execution_count": 55,
   "id": "c686cdef",
   "metadata": {},
   "outputs": [
    {
     "data": {
      "text/plain": [
       "[['자료구조', '빅데이터프로그래밍', '확률과통계', '이산수학', '고급프로그래밍'],\n",
       " ['Github가입', 'Python설치', '문제 풀기', '푹 쉬기']]"
      ]
     },
     "execution_count": 55,
     "metadata": {},
     "output_type": "execute_result"
    }
   ],
   "source": [
    "this_week "
   ]
  },
  {
   "cell_type": "code",
   "execution_count": 57,
   "id": "d182da7d",
   "metadata": {},
   "outputs": [],
   "source": [
    "homework_list.append(2)"
   ]
  },
  {
   "cell_type": "code",
   "execution_count": 58,
   "id": "73a6f751",
   "metadata": {},
   "outputs": [
    {
     "data": {
      "text/plain": [
       "[['자료구조', '빅데이터프로그래밍', '확률과통계', '이산수학', '고급프로그래밍'],\n",
       " ['Github가입', 'Python설치', '문제 풀기', '푹 쉬기', '푹 쉬기', 2]]"
      ]
     },
     "execution_count": 58,
     "metadata": {},
     "output_type": "execute_result"
    }
   ],
   "source": [
    "this_week # int형도 들어감, 유연함"
   ]
  },
  {
   "cell_type": "code",
   "execution_count": 62,
   "id": "f7476478",
   "metadata": {},
   "outputs": [],
   "source": [
    "sample_list = [\"A\", \"A\", \"B\", \"A\"]"
   ]
  },
  {
   "cell_type": "code",
   "execution_count": 61,
   "id": "ec0ea2a3",
   "metadata": {},
   "outputs": [
    {
     "data": {
      "text/plain": [
       "['A', 'A', 'A', 'B']"
      ]
     },
     "execution_count": 61,
     "metadata": {},
     "output_type": "execute_result"
    }
   ],
   "source": [
    "sample_list.sort()\n",
    "sample_list # 원본 데이터는 sort 됨"
   ]
  },
  {
   "cell_type": "code",
   "execution_count": 68,
   "id": "9ea1f717",
   "metadata": {},
   "outputs": [
    {
     "data": {
      "text/plain": [
       "['A', 'A', 'A', 'B']"
      ]
     },
     "execution_count": 68,
     "metadata": {},
     "output_type": "execute_result"
    }
   ],
   "source": [
    "sample_list = [\"A\", \"A\", \"B\", \"A\"]\n",
    "sorted(sample_list) # 원본 데이터는 sort되지 않음"
   ]
  },
  {
   "cell_type": "code",
   "execution_count": 69,
   "id": "5634b793",
   "metadata": {},
   "outputs": [
    {
     "data": {
      "text/plain": [
       "['A', 'A', 'B', 'A']"
      ]
     },
     "execution_count": 69,
     "metadata": {},
     "output_type": "execute_result"
    }
   ],
   "source": [
    "sample_list"
   ]
  },
  {
   "cell_type": "code",
   "execution_count": 70,
   "id": "18200985",
   "metadata": {},
   "outputs": [
    {
     "data": {
      "text/plain": [
       "['A', 'A', 'B']"
      ]
     },
     "execution_count": 70,
     "metadata": {},
     "output_type": "execute_result"
    }
   ],
   "source": [
    "del(sample_list[3]) # 인덱스 지우기\n",
    "sample_list"
   ]
  },
  {
   "cell_type": "code",
   "execution_count": 74,
   "id": "ad4184cd",
   "metadata": {},
   "outputs": [
    {
     "data": {
      "text/plain": [
       "['A', 'A', 'B', 'A', 'A', 'A', 'B', 'A']"
      ]
     },
     "execution_count": 74,
     "metadata": {},
     "output_type": "execute_result"
    }
   ],
   "source": [
    "sample_list = [\"A\", \"A\", \"B\", \"A\"]\n",
    "sample_list2 = [\"A\", \"A\", \"B\", \"A\"]\n",
    "newlist = sample_list + sample_list2\n",
    "newlist\n",
    "# list도 사칙연산이 가능함"
   ]
  },
  {
   "cell_type": "code",
   "execution_count": 75,
   "id": "298eb96b",
   "metadata": {},
   "outputs": [],
   "source": [
    "newlist = [sample_list] * 10"
   ]
  },
  {
   "cell_type": "code",
   "execution_count": 76,
   "id": "76281e8d",
   "metadata": {},
   "outputs": [
    {
     "data": {
      "text/plain": [
       "[['A', 'A', 'B', 'A'],\n",
       " ['A', 'A', 'B', 'A'],\n",
       " ['A', 'A', 'B', 'A'],\n",
       " ['A', 'A', 'B', 'A'],\n",
       " ['A', 'A', 'B', 'A'],\n",
       " ['A', 'A', 'B', 'A'],\n",
       " ['A', 'A', 'B', 'A'],\n",
       " ['A', 'A', 'B', 'A'],\n",
       " ['A', 'A', 'B', 'A'],\n",
       " ['A', 'A', 'B', 'A']]"
      ]
     },
     "execution_count": 76,
     "metadata": {},
     "output_type": "execute_result"
    }
   ],
   "source": [
    "newlist"
   ]
  },
  {
   "cell_type": "code",
   "execution_count": 77,
   "id": "587383c4",
   "metadata": {},
   "outputs": [],
   "source": [
    "newlist[0][1] = \"C\""
   ]
  },
  {
   "cell_type": "code",
   "execution_count": 78,
   "id": "c5ffeb27",
   "metadata": {},
   "outputs": [
    {
     "data": {
      "text/plain": [
       "[['A', 'C', 'B', 'A'],\n",
       " ['A', 'C', 'B', 'A'],\n",
       " ['A', 'C', 'B', 'A'],\n",
       " ['A', 'C', 'B', 'A'],\n",
       " ['A', 'C', 'B', 'A'],\n",
       " ['A', 'C', 'B', 'A'],\n",
       " ['A', 'C', 'B', 'A'],\n",
       " ['A', 'C', 'B', 'A'],\n",
       " ['A', 'C', 'B', 'A'],\n",
       " ['A', 'C', 'B', 'A']]"
      ]
     },
     "execution_count": 78,
     "metadata": {},
     "output_type": "execute_result"
    }
   ],
   "source": [
    "newlist # 주소가 같기 때문에 모든 데이터가 변경됨"
   ]
  },
  {
   "cell_type": "code",
   "execution_count": 80,
   "id": "ed264284",
   "metadata": {},
   "outputs": [
    {
     "data": {
      "text/plain": [
       "10"
      ]
     },
     "execution_count": 80,
     "metadata": {},
     "output_type": "execute_result"
    }
   ],
   "source": [
    "len(newlist)"
   ]
  },
  {
   "cell_type": "code",
   "execution_count": 81,
   "id": "d7cb20ea",
   "metadata": {},
   "outputs": [
    {
     "data": {
      "text/plain": [
       "'C'"
      ]
     },
     "execution_count": 81,
     "metadata": {},
     "output_type": "execute_result"
    }
   ],
   "source": [
    "max(sample_list)"
   ]
  },
  {
   "cell_type": "code",
   "execution_count": 82,
   "id": "41d998b5",
   "metadata": {},
   "outputs": [
    {
     "data": {
      "text/plain": [
       "'A'"
      ]
     },
     "execution_count": 82,
     "metadata": {},
     "output_type": "execute_result"
    }
   ],
   "source": [
    "min(sample_list)"
   ]
  },
  {
   "cell_type": "code",
   "execution_count": 83,
   "id": "919a161a",
   "metadata": {},
   "outputs": [
    {
     "data": {
      "text/plain": [
       "['확률및통계', 3, ['테스트', 1234], '선생님']"
      ]
     },
     "execution_count": 83,
     "metadata": {},
     "output_type": "execute_result"
    }
   ],
   "source": [
    "[\"확률및통계\", 3, [\"테스트\", 1234], \"선생님\"] # 같은 형태의 자료형이 아니더라도 list를 만들 수 있음"
   ]
  },
  {
   "cell_type": "markdown",
   "id": "18e440db",
   "metadata": {},
   "source": [
    "# 5. tuple"
   ]
  },
  {
   "cell_type": "code",
   "execution_count": 87,
   "id": "6323e1e5",
   "metadata": {},
   "outputs": [],
   "source": [
    "pi = (3,1,4,1,5,9)\n",
    "list_pi = list(pi)\n",
    "# 리스트와 typecast로 변환이 가능"
   ]
  },
  {
   "cell_type": "code",
   "execution_count": 88,
   "id": "1ed9828e",
   "metadata": {},
   "outputs": [
    {
     "name": "stdout",
     "output_type": "stream",
     "text": [
      "<class 'tuple'>\n",
      "<class 'list'>\n"
     ]
    }
   ],
   "source": [
    "print(type(pi))\n",
    "print(type(list_pi))"
   ]
  },
  {
   "cell_type": "markdown",
   "id": "c557992b",
   "metadata": {},
   "source": [
    "# 6. set / dictionary"
   ]
  },
  {
   "cell_type": "code",
   "execution_count": 89,
   "id": "b1d44ad5",
   "metadata": {},
   "outputs": [],
   "source": [
    "# tuple / list -> 순서가 존재함\n",
    "# set / dictionary -> 순서가 없음\n",
    "# set -> 값만 (value)\n",
    "# dict -> key:value "
   ]
  },
  {
   "cell_type": "code",
   "execution_count": 92,
   "id": "e6675608",
   "metadata": {},
   "outputs": [
    {
     "name": "stdout",
     "output_type": "stream",
     "text": [
      "<class 'set'>\n",
      "{'bbb', 'aaa', 'ccc'}\n"
     ]
    }
   ],
   "source": [
    "attendence_set = {\"aaa\", \"bbb\", \"ccc\"}\n",
    "print(type(attendence_set))\n",
    "print(attendence_set)"
   ]
  },
  {
   "cell_type": "code",
   "execution_count": 94,
   "id": "07bc39bd",
   "metadata": {},
   "outputs": [
    {
     "data": {
      "text/plain": [
       "{'aaa', 'bbb', 'ccc'}"
      ]
     },
     "execution_count": 94,
     "metadata": {},
     "output_type": "execute_result"
    }
   ],
   "source": [
    "attendence_set2 = {\"aaa\", \"bbb\", \"ccc\", \"ccc\"}\n",
    "attendence_set2\n",
    "# 중복이 허용되지 않음"
   ]
  },
  {
   "cell_type": "code",
   "execution_count": 95,
   "id": "d2f55b09",
   "metadata": {},
   "outputs": [],
   "source": [
    "student_number = {\"aaa\":1, \"bbb\":2, \"ccc\":3}"
   ]
  },
  {
   "cell_type": "code",
   "execution_count": 96,
   "id": "e89b2195",
   "metadata": {},
   "outputs": [
    {
     "name": "stdout",
     "output_type": "stream",
     "text": [
      "<class 'dict'>\n",
      "{'aaa': 1, 'bbb': 2, 'ccc': 3}\n"
     ]
    }
   ],
   "source": [
    "print(type(student_number))\n",
    "print(student_number)"
   ]
  },
  {
   "cell_type": "code",
   "execution_count": 98,
   "id": "758fd876",
   "metadata": {},
   "outputs": [
    {
     "data": {
      "text/plain": [
       "1"
      ]
     },
     "execution_count": 98,
     "metadata": {},
     "output_type": "execute_result"
    }
   ],
   "source": [
    "student_number[\"aaa\"]"
   ]
  },
  {
   "cell_type": "code",
   "execution_count": 99,
   "id": "4b365256",
   "metadata": {},
   "outputs": [],
   "source": [
    "student_number[\"aaa\"] = 5"
   ]
  },
  {
   "cell_type": "code",
   "execution_count": 101,
   "id": "671b49d1",
   "metadata": {},
   "outputs": [
    {
     "data": {
      "text/plain": [
       "{'aaa': 5, 'bbb': 2, 'ccc': 3}"
      ]
     },
     "execution_count": 101,
     "metadata": {},
     "output_type": "execute_result"
    }
   ],
   "source": [
    "student_number"
   ]
  },
  {
   "cell_type": "code",
   "execution_count": 103,
   "id": "05534e92",
   "metadata": {},
   "outputs": [],
   "source": [
    "cafe = {(\"커피\", 10000):10} # key로 tuple도 가능함, List는 값을 변경할 수 있기 때문에 불가함"
   ]
  },
  {
   "cell_type": "code",
   "execution_count": 106,
   "id": "5ca22d93",
   "metadata": {},
   "outputs": [
    {
     "data": {
      "text/plain": [
       "dict_items([('aaa', 5), ('bbb', 2), ('ccc', 3)])"
      ]
     },
     "execution_count": 106,
     "metadata": {},
     "output_type": "execute_result"
    }
   ],
   "source": [
    "student_number.items() # 조회"
   ]
  },
  {
   "cell_type": "code",
   "execution_count": 107,
   "id": "4dcfc436",
   "metadata": {},
   "outputs": [
    {
     "data": {
      "text/plain": [
       "dict_keys(['aaa', 'bbb', 'ccc'])"
      ]
     },
     "execution_count": 107,
     "metadata": {},
     "output_type": "execute_result"
    }
   ],
   "source": [
    "student_number.keys()"
   ]
  },
  {
   "cell_type": "code",
   "execution_count": 108,
   "id": "a1947494",
   "metadata": {},
   "outputs": [
    {
     "data": {
      "text/plain": [
       "dict_values([5, 2, 3])"
      ]
     },
     "execution_count": 108,
     "metadata": {},
     "output_type": "execute_result"
    }
   ],
   "source": [
    "student_number.values()"
   ]
  },
  {
   "cell_type": "markdown",
   "id": "add06b20",
   "metadata": {},
   "source": [
    "# 7. 조건문 (conditions)"
   ]
  },
  {
   "cell_type": "code",
   "execution_count": 1,
   "id": "cda4f67b",
   "metadata": {},
   "outputs": [],
   "source": [
    "# 논리연산 if elif else\n",
    "# == != <= >="
   ]
  },
  {
   "cell_type": "code",
   "execution_count": 5,
   "id": "5120d1c3",
   "metadata": {},
   "outputs": [
    {
     "name": "stdout",
     "output_type": "stream",
     "text": [
      "2016학번 이외의 졸업자는 졸업식 전에 과사무실에 방문해야 합니다.\n"
     ]
    }
   ],
   "source": [
    "my_gpa = 3.5\n",
    "my_admission_year = 2005\n",
    "\n",
    "if(my_gpa > 4.0 and my_admission_year >= 2018) :\n",
    "    print(\"졸업식에서 총장님 악수를 받을 수 있습니다.\")\n",
    "elif(my_gpa == 4.5 and my_admission_year < 2000) :\n",
    "    print(\"졸업 대표가 되었습니다\")\n",
    "elif not(my_admission_year == 2016) :\n",
    "    # not으로 조건이 \"옳지 않을 때\"를 표현할 수 있음\n",
    "    print(\"2016학번 이외의 졸업자는 졸업식 전에 과사무실에 방문해야 합니다.\")\n",
    "else :\n",
    "    print(\"2016학번의 졸업을 축하합니다\")\n",
    "\n"
   ]
  },
  {
   "cell_type": "code",
   "execution_count": 7,
   "id": "b39c8236",
   "metadata": {},
   "outputs": [],
   "source": [
    "if(my_gpa > 4.0) :\n",
    "    if(my_admission_year >= 2018) :\n",
    "        print(\"졸업식에서 총장님 악수를 받을 수 있습니다.\")\n",
    "# 가독성이 떨어지고 느려짐"
   ]
  },
  {
   "cell_type": "markdown",
   "id": "1e9a880c",
   "metadata": {},
   "source": [
    "# 8. for Loop"
   ]
  },
  {
   "cell_type": "code",
   "execution_count": 9,
   "id": "11fe8b39",
   "metadata": {},
   "outputs": [
    {
     "name": "stdout",
     "output_type": "stream",
     "text": [
      "0 1 2 3 4 5 6 7 8 9 "
     ]
    }
   ],
   "source": [
    "for x in range(0, 10) :\n",
    "    print(x, \"\", end = \"\")\n",
    "# range -> iterator 연산자를 반환해줌 (효율적)\n",
    "# range(a,b) 는 a, a+1, ..., b-1 까지를 반환함"
   ]
  },
  {
   "cell_type": "code",
   "execution_count": 11,
   "id": "ff34af16",
   "metadata": {},
   "outputs": [
    {
     "name": "stdout",
     "output_type": "stream",
     "text": [
      "Github가입\n",
      "Python설치\n",
      "문제 풀기\n",
      "Github가입\n",
      "Python설치\n",
      "문제 풀기\n"
     ]
    }
   ],
   "source": [
    "homework_list = [\"Github가입\", \"Python설치\", \"문제 풀기\"]\n",
    "for y in homework_list :\n",
    "    print(y)\n",
    "for y in [\"Github가입\", \"Python설치\", \"문제 풀기\"] :\n",
    "    print(y)"
   ]
  },
  {
   "cell_type": "code",
   "execution_count": 15,
   "id": "ece0021e",
   "metadata": {},
   "outputs": [
    {
     "name": "stdout",
     "output_type": "stream",
     "text": [
      "1\n",
      "2\n",
      "3\n",
      "10\n",
      "20\n",
      "30\n",
      "100\n",
      "200\n",
      "300\n"
     ]
    }
   ],
   "source": [
    "numbers = [[1,2,3], [10,20,30],[100,200,300]]\n",
    "for i in numbers :\n",
    "    for j in i :\n",
    "        print(j)"
   ]
  },
  {
   "cell_type": "code",
   "execution_count": 18,
   "id": "dd0e7a1c",
   "metadata": {},
   "outputs": [
    {
     "name": "stdout",
     "output_type": "stream",
     "text": [
      "1 3 5 7 9 \n"
     ]
    }
   ],
   "source": [
    "for x in range(0, 10) :\n",
    "    if(x %2 == 0) :\n",
    "        continue\n",
    "    print(x, \"\", end =\"\")\n",
    "print()"
   ]
  },
  {
   "cell_type": "code",
   "execution_count": 19,
   "id": "263ac23c",
   "metadata": {},
   "outputs": [
    {
     "name": "stdout",
     "output_type": "stream",
     "text": [
      "0 1 2 3 4 5 6 7 8 9 \n"
     ]
    }
   ],
   "source": [
    "for x in range(0, 10) :\n",
    "    if(x %2 == 0) :\n",
    "        pass  # 조건에서 아무것도 하지 않음\n",
    "    print(x, \"\", end =\"\")\n",
    "print()"
   ]
  },
  {
   "cell_type": "markdown",
   "id": "5ad79c0f",
   "metadata": {},
   "source": [
    "# 9. While문"
   ]
  },
  {
   "cell_type": "code",
   "execution_count": 20,
   "id": "4883a2de",
   "metadata": {},
   "outputs": [],
   "source": [
    "import random # random number generator"
   ]
  },
  {
   "cell_type": "code",
   "execution_count": 24,
   "id": "25fc978b",
   "metadata": {},
   "outputs": [
    {
     "name": "stdout",
     "output_type": "stream",
     "text": [
      "47\n",
      "87\n",
      "87\n",
      "14\n",
      "55\n",
      "39\n",
      "9\n",
      "64\n",
      "24\n",
      "40\n",
      "82\n",
      "67\n",
      "55\n",
      "20\n",
      "44\n"
     ]
    }
   ],
   "source": [
    "randnum = random.randrange(0,100)\n",
    "while(randnum < 90) :\n",
    "    print(randnum)\n",
    "    randnum = random.randrange(0,100)"
   ]
  },
  {
   "cell_type": "code",
   "execution_count": 29,
   "id": "4bf778cb",
   "metadata": {},
   "outputs": [
    {
     "name": "stdout",
     "output_type": "stream",
     "text": [
      "56\n",
      "96\n"
     ]
    }
   ],
   "source": [
    "while(True) :\n",
    "    randnum = random.randrange(0,100)\n",
    "    print(randnum)\n",
    "    if(randnum >= 90) :\n",
    "        break\n",
    "# do-while이 없기 때문에 이렇게 많이 씀"
   ]
  },
  {
   "cell_type": "markdown",
   "id": "ca1b1a62",
   "metadata": {},
   "source": [
    "# 10. 함수 정의"
   ]
  },
  {
   "cell_type": "code",
   "execution_count": 30,
   "id": "32c718a1",
   "metadata": {},
   "outputs": [
    {
     "name": "stdout",
     "output_type": "stream",
     "text": [
      "11\n"
     ]
    }
   ],
   "source": [
    "def addNumber(number1, number2) :\n",
    "    total = number1 + number2\n",
    "    return total\n",
    "\n",
    "print(addNumber(1,10))"
   ]
  },
  {
   "cell_type": "code",
   "execution_count": 31,
   "id": "22e64f8b",
   "metadata": {},
   "outputs": [
    {
     "name": "stdout",
     "output_type": "stream",
     "text": [
      "30\n"
     ]
    }
   ],
   "source": [
    "def addNumber(number1 = 10, number2 = 20) :\n",
    "    total = number1 + number2\n",
    "    return total\n",
    "\n",
    "print(addNumber()) # default를 지정할 수 있음ㅁ"
   ]
  },
  {
   "cell_type": "code",
   "execution_count": 33,
   "id": "03e8e5b2",
   "metadata": {},
   "outputs": [
    {
     "name": "stdout",
     "output_type": "stream",
     "text": [
      "31\n"
     ]
    }
   ],
   "source": [
    "def addNumber3(number1, number2= 10, number3 = 30) :\n",
    "    total = number1 + number2 +  number3\n",
    "    return total\n",
    "\n",
    "print(addNumber3(1,number3=20))"
   ]
  },
  {
   "cell_type": "code",
   "execution_count": 40,
   "id": "3b28e4ee",
   "metadata": {},
   "outputs": [
    {
     "name": "stdout",
     "output_type": "stream",
     "text": [
      "(1, 2, 3, 4)\n"
     ]
    },
    {
     "data": {
      "text/plain": [
       "10"
      ]
     },
     "execution_count": 40,
     "metadata": {},
     "output_type": "execute_result"
    }
   ],
   "source": [
    "# 함수를 호출할때 아규먼트와 키워드 아규먼트의 갯수를 특정지을수 없을때는 *args와 **kwargs를 사용\n",
    "def addNumber4(*args, **kwargs) :\n",
    "    print(args) # tuple\n",
    "    return sum(args)\n",
    "\n",
    "addNumber4(1,2,3,4,)"
   ]
  },
  {
   "cell_type": "code",
   "execution_count": 42,
   "id": "4dc36233",
   "metadata": {},
   "outputs": [],
   "source": [
    "def addNumber5(*args, **kwargs) :\n",
    "    print(type(args), args)\n",
    "    print(type(kwargs), kwargs) # dict\n",
    "    return sum(args) + sum(list(kwargs.values()))"
   ]
  },
  {
   "cell_type": "code",
   "execution_count": 43,
   "id": "4f773339",
   "metadata": {},
   "outputs": [
    {
     "name": "stdout",
     "output_type": "stream",
     "text": [
      "<class 'tuple'> (1, 2, 3, 4, 5)\n",
      "<class 'dict'> {'num1': 6, 'num2': 7}\n"
     ]
    },
    {
     "data": {
      "text/plain": [
       "28"
      ]
     },
     "execution_count": 43,
     "metadata": {},
     "output_type": "execute_result"
    }
   ],
   "source": [
    "addNumber5(1, 2, 3, 4, 5, num1=6, num2=7)"
   ]
  },
  {
   "cell_type": "code",
   "execution_count": 46,
   "id": "20b83c52",
   "metadata": {},
   "outputs": [
    {
     "name": "stdout",
     "output_type": "stream",
     "text": [
      "<class 'tuple'> ()\n",
      "<class 'dict'> {'number2': 100, 'number3': 200}\n"
     ]
    },
    {
     "data": {
      "text/plain": [
       "300"
      ]
     },
     "execution_count": 46,
     "metadata": {},
     "output_type": "execute_result"
    }
   ],
   "source": [
    "data = {\"number2\": 100, \"number3\":200}\n",
    "addNumber5(**data)"
   ]
  },
  {
   "cell_type": "markdown",
   "id": "0c5d9851",
   "metadata": {},
   "source": [
    "# 11. String operations"
   ]
  },
  {
   "cell_type": "code",
   "execution_count": 49,
   "id": "1b5093e7",
   "metadata": {},
   "outputs": [
    {
     "name": "stdout",
     "output_type": "stream",
     "text": [
      "이상을 우\n",
      "름이 없고\n",
      "이상을 우러르는 우리의 기상 저높은 백두산과 다름이 없고 진리를 삼모하는 우리의 마음\n"
     ]
    }
   ],
   "source": [
    "ssu_song = \"이상을 우러르는 우리의 기상 저높은 백두산과 다름이 없고\"\n",
    "print(ssu_song[0:5])\n",
    "print(ssu_song[-5:])\n",
    "print(ssu_song + \" 진리를 삼모하는 우리의 마음\")"
   ]
  },
  {
   "cell_type": "code",
   "execution_count": 53,
   "id": "64601ccd",
   "metadata": {},
   "outputs": [
    {
     "name": "stdout",
     "output_type": "stream",
     "text": [
      "나는 tom이고 숭실대학교 교수입니다. 2020년 부터 숭실대학교에서 일합니다\n"
     ]
    }
   ],
   "source": [
    "name = \"tom\"\n",
    "myclass = \"교수\"\n",
    "mystartingyear= 2020\n",
    "print(\"나는 %s이고 숭실대학교 %s입니다. %d년 부터 숭실대학교에서 일합니다\" %(name, myclass, mystartingyear))"
   ]
  },
  {
   "cell_type": "code",
   "execution_count": 55,
   "id": "437634a3",
   "metadata": {},
   "outputs": [
    {
     "name": "stdout",
     "output_type": "stream",
     "text": [
      "나는 tom이고 숭실대학교 교수입니다. 2020년 부터 숭실대학교에서 일합니다\n"
     ]
    }
   ],
   "source": [
    "print(f\"나는 {name}이고 숭실대학교 {myclass}입니다. {mystartingyear}년 부터 숭실대학교에서 일합니다\")"
   ]
  },
  {
   "cell_type": "code",
   "execution_count": 66,
   "id": "7afbb8c7",
   "metadata": {},
   "outputs": [
    {
     "name": "stdout",
     "output_type": "stream",
     "text": [
      "every night in my dreams, i see you, i feel you\n",
      "False\n",
      "Every night in my dreams, I see you - my heart will go on, I feel you - my heart will go on\n",
      "18\n",
      "['Every night in my dreams', ' I see you', ' I feel you']\n",
      "['Every', 'night', 'in', 'my', 'dreams,', 'I', 'see', 'you,', 'I', 'feel', 'you']\n"
     ]
    }
   ],
   "source": [
    "pop_song = \"Every night in my dreams, I see you, I feel you\"\n",
    "\n",
    "print(pop_song.lower())\n",
    "print(pop_song.isalpha())\n",
    "print(pop_song.replace(\"you\", \"you - my heart will go on\"))\n",
    "print(pop_song.find(\"dreams\"))\n",
    "print(pop_song.split(\",\"))\n",
    "print(pop_song.split())"
   ]
  },
  {
   "cell_type": "code",
   "execution_count": 69,
   "id": "ff71dc41",
   "metadata": {},
   "outputs": [
    {
     "name": "stdout",
     "output_type": "stream",
     "text": [
      "Every night in my dreams, I see you, I feel you\n",
      "Every night in my dreams, I see you, I feel you       \n",
      "           Every night in my dreams, I see you, I feel you\n"
     ]
    }
   ],
   "source": [
    "pop_song = \"           Every night in my dreams, I see you, I feel you       \"\n",
    "\n",
    "print(pop_song.strip())\n",
    "print(pop_song.lstrip())\n",
    "print(pop_song.rstrip())"
   ]
  },
  {
   "cell_type": "markdown",
   "id": "6ea9adad",
   "metadata": {},
   "source": [
    "# 12. 파일 입출력"
   ]
  },
  {
   "cell_type": "code",
   "execution_count": 73,
   "id": "8160627b",
   "metadata": {},
   "outputs": [
    {
     "name": "stdout",
     "output_type": "stream",
     "text": [
      "w\n",
      "./test.txt\n"
     ]
    }
   ],
   "source": [
    "test_file = open(\"./test.txt\", \"w\")\n",
    "# w : 쓰기\n",
    "print(test_file.mode)\n",
    "print(test_file.name)\n",
    "test_file.write(\"안녕하세요?\\n\")\n",
    "test_file.close()"
   ]
  },
  {
   "cell_type": "code",
   "execution_count": 75,
   "id": "55c3d9b2",
   "metadata": {},
   "outputs": [
    {
     "name": "stdout",
     "output_type": "stream",
     "text": [
      "r\n",
      "./test.txt\n",
      "안녕하세요?\n",
      "\n"
     ]
    }
   ],
   "source": [
    "test_file = open(\"./test.txt\", \"r\")\n",
    "print(test_file.mode)\n",
    "print(test_file.name)\n",
    "print(test_file.read())\n",
    "test_file.close()"
   ]
  },
  {
   "cell_type": "code",
   "execution_count": 77,
   "id": "a24ceaf9",
   "metadata": {},
   "outputs": [],
   "source": [
    "import os\n",
    "os.remove(\"./test.txt\")\n",
    "# 파일 삭제도 가능함"
   ]
  },
  {
   "cell_type": "code",
   "execution_count": 79,
   "id": "0480e030",
   "metadata": {},
   "outputs": [],
   "source": [
    "import csv # comma separated file을 다루는 methods들을 제공"
   ]
  },
  {
   "cell_type": "markdown",
   "id": "b2fcd970",
   "metadata": {},
   "source": [
    "# 13. class와 object"
   ]
  },
  {
   "cell_type": "code",
   "execution_count": 81,
   "id": "0b70f81b",
   "metadata": {},
   "outputs": [],
   "source": [
    "class Student:\n",
    "    '''학생 정보에 대한 클래스입니다'''\n",
    "    __name = \"\" # python은 pritave 변수를 __표현, _인 경우는 protected\n",
    "    __id = 0\n",
    "    __gpa = 0.0\n",
    "    __department = \"\"\n",
    "    \n",
    "    # class 내에 정의된 함수 : method\n",
    "    # class의 methods는 무조건 첫 번째 인자가 self\n",
    "   \n",
    "    def __init__(self, name, id, gpa, department):\n",
    "        self.__name = name\n",
    "        self.__id = id\n",
    "        self.__gpa = gpa\n",
    "        self.__department = department\n",
    "           \n",
    "    def set_name(self, name): # self는 c++의 this같은 역할\n",
    "        self.__name = name\n",
    "    \n",
    "    def set_id(self, id):\n",
    "        self.__id = id\n",
    "\n",
    "    def set_gpa(self, gpa):\n",
    "        self.__gpa = gpa\n",
    "        \n",
    "    def set_department(self, department):\n",
    "        self.__department = department\n",
    "\n",
    "    def get_name(self):\n",
    "        return self.__name\n",
    "\n",
    "    def get_id(self):\n",
    "        return self.__id\n",
    "    \n",
    "    def get_gpa(self):\n",
    "        return self.__gpa\n",
    "       \n",
    "    def get_department(self):\n",
    "        return self.__department\n",
    "    \n",
    "    def get_type(self):\n",
    "        print(\"Student\")\n",
    "    \n",
    "    def toString(self):\n",
    "        return f\"학생 {self.__name}은(는) 학번이 {self.__id}이고, 평균학점은 {self.__gpa}이며 {self.__department}를 다닙니다\""
   ]
  },
  {
   "cell_type": "code",
   "execution_count": 82,
   "id": "644478b2",
   "metadata": {},
   "outputs": [],
   "source": [
    "Tom = Student(\"Tom\", 20202020, 4.3, \"스시소\")"
   ]
  },
  {
   "cell_type": "code",
   "execution_count": 86,
   "id": "e59707e5",
   "metadata": {},
   "outputs": [
    {
     "data": {
      "text/plain": [
       "'학생 Tom은(는) 학번이 20202020이고, 평균학점은 4.3이며 스시소를 다닙니다'"
      ]
     },
     "execution_count": 86,
     "metadata": {},
     "output_type": "execute_result"
    }
   ],
   "source": [
    "Tom.toString()"
   ]
  },
  {
   "cell_type": "code",
   "execution_count": 88,
   "id": "9433cad5",
   "metadata": {},
   "outputs": [
    {
     "data": {
      "text/plain": [
       "'학생 정보에 대한 클래스입니다'"
      ]
     },
     "execution_count": 88,
     "metadata": {},
     "output_type": "execute_result"
    }
   ],
   "source": [
    "Student.__doc__"
   ]
  },
  {
   "cell_type": "code",
   "execution_count": 84,
   "id": "493ed1d2",
   "metadata": {},
   "outputs": [],
   "source": [
    "class UnionStudent(Student): # Student class를 상속\n",
    "    __unionclass = \"\"\n",
    "    \n",
    "    def __init__(self, name, id, gpa, department, unionclass):\n",
    "        self.__unionclass = unionclass\n",
    "        super(UnionStudent, self).__init__(name, id, gpa, department) \n",
    "        # 부모 클래스를 초기화\n",
    "        \n",
    "    def set_class(self, unionclass): \n",
    "        self.__unionclass = unionclass\n",
    "    \n",
    "    def get_class(self): \n",
    "        return self.__unionclass\n",
    "    \n",
    "    def get_type(self):\n",
    "        print(\"Student Union\")\n",
    "\n",
    "    def toString(self):\n",
    "        return f\"학생 {self.get_name()}은(는) 학번이 {self.get_id()}이고, 평균학점은 {self.get_gpa()}이며 {self.get_department()}를 다니는 학생회 {self.__unionclass}입니다\""
   ]
  },
  {
   "cell_type": "code",
   "execution_count": 85,
   "id": "ff435f62",
   "metadata": {},
   "outputs": [
    {
     "data": {
      "text/plain": [
       "'학생 Mike은(는) 학번이 20202021이고, 평균학점은 4.3이며 스시소를 다니는 학생회 과대표입니다'"
      ]
     },
     "execution_count": 85,
     "metadata": {},
     "output_type": "execute_result"
    }
   ],
   "source": [
    "mike = UnionStudent(\"Mike\", 20202021, 4.3, \"스시소\", \"과대표\")\n",
    "mike.toString()"
   ]
  },
  {
   "cell_type": "markdown",
   "id": "4cfc2a81",
   "metadata": {},
   "source": [
    "# 14. Inline operations"
   ]
  },
  {
   "cell_type": "code",
   "execution_count": 92,
   "id": "dd515719",
   "metadata": {},
   "outputs": [
    {
     "data": {
      "text/plain": [
       "','"
      ]
     },
     "execution_count": 92,
     "metadata": {},
     "output_type": "execute_result"
    }
   ],
   "source": [
    "num_list = [1,2,3,4,5,6]\n",
    "str(num_list)[2]"
   ]
  },
  {
   "cell_type": "code",
   "execution_count": 93,
   "id": "3a34b72b",
   "metadata": {},
   "outputs": [
    {
     "data": {
      "text/plain": [
       "['1', '2', '3', '4', '5', '6']"
      ]
     },
     "execution_count": 93,
     "metadata": {},
     "output_type": "execute_result"
    }
   ],
   "source": [
    "[str(x) for x in num_list] "
   ]
  },
  {
   "cell_type": "code",
   "execution_count": 94,
   "id": "92c0f621",
   "metadata": {},
   "outputs": [
    {
     "data": {
      "text/plain": [
       "['2', '4', '6']"
      ]
     },
     "execution_count": 94,
     "metadata": {},
     "output_type": "execute_result"
    }
   ],
   "source": [
    "[str(x) for x in num_list if x%2==0]"
   ]
  },
  {
   "cell_type": "code",
   "execution_count": 97,
   "id": "499f5a15",
   "metadata": {},
   "outputs": [
    {
     "data": {
      "text/plain": [
       "['1', 2, '3', 4, '5', 6]"
      ]
     },
     "execution_count": 97,
     "metadata": {},
     "output_type": "execute_result"
    }
   ],
   "source": [
    "[str(x) if x%2 != 0 else x for x in num_list] "
   ]
  },
  {
   "cell_type": "code",
   "execution_count": 98,
   "id": "badbd6b1",
   "metadata": {},
   "outputs": [],
   "source": [
    "num_dict = {1:100, 2:200, 3:300, 4:400}\n",
    "num_dict_filterd = {k:v for k, v in num_dict.items() if k %2 == 0}"
   ]
  },
  {
   "cell_type": "code",
   "execution_count": 99,
   "id": "decdbede",
   "metadata": {},
   "outputs": [
    {
     "data": {
      "text/plain": [
       "{2: 200, 4: 400}"
      ]
     },
     "execution_count": 99,
     "metadata": {},
     "output_type": "execute_result"
    }
   ],
   "source": [
    "num_dict_filterd"
   ]
  },
  {
   "cell_type": "code",
   "execution_count": null,
   "id": "e27c61e4",
   "metadata": {},
   "outputs": [],
   "source": []
  }
 ],
 "metadata": {
  "kernelspec": {
   "display_name": "Python 3 (ipykernel)",
   "language": "python",
   "name": "python3"
  },
  "language_info": {
   "codemirror_mode": {
    "name": "ipython",
    "version": 3
   },
   "file_extension": ".py",
   "mimetype": "text/x-python",
   "name": "python",
   "nbconvert_exporter": "python",
   "pygments_lexer": "ipython3",
   "version": "3.9.7"
  }
 },
 "nbformat": 4,
 "nbformat_minor": 5
}
