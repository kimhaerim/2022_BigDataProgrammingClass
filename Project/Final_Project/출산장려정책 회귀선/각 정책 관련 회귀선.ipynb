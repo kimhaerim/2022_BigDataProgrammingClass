{
 "cells": [
  {
   "cell_type": "code",
   "execution_count": 1,
   "id": "f9bab352",
   "metadata": {},
   "outputs": [
    {
     "name": "stdout",
     "output_type": "stream",
     "text": [
      "Requirement already satisfied: selenium in /Users/apple/opt/anaconda3/lib/python3.9/site-packages (4.1.2)\n",
      "Requirement already satisfied: urllib3[secure,socks]~=1.26 in /Users/apple/opt/anaconda3/lib/python3.9/site-packages (from selenium) (1.26.7)\n",
      "Requirement already satisfied: trio-websocket~=0.9 in /Users/apple/opt/anaconda3/lib/python3.9/site-packages (from selenium) (0.9.2)\n",
      "Requirement already satisfied: trio~=0.17 in /Users/apple/opt/anaconda3/lib/python3.9/site-packages (from selenium) (0.20.0)\n",
      "Requirement already satisfied: sortedcontainers in /Users/apple/opt/anaconda3/lib/python3.9/site-packages (from trio~=0.17->selenium) (2.4.0)\n",
      "Requirement already satisfied: async-generator>=1.9 in /Users/apple/opt/anaconda3/lib/python3.9/site-packages (from trio~=0.17->selenium) (1.10)\n",
      "Requirement already satisfied: attrs>=19.2.0 in /Users/apple/opt/anaconda3/lib/python3.9/site-packages (from trio~=0.17->selenium) (21.2.0)\n",
      "Requirement already satisfied: sniffio in /Users/apple/opt/anaconda3/lib/python3.9/site-packages (from trio~=0.17->selenium) (1.2.0)\n",
      "Requirement already satisfied: idna in /Users/apple/opt/anaconda3/lib/python3.9/site-packages (from trio~=0.17->selenium) (3.2)\n",
      "Requirement already satisfied: outcome in /Users/apple/opt/anaconda3/lib/python3.9/site-packages (from trio~=0.17->selenium) (1.1.0)\n",
      "Requirement already satisfied: wsproto>=0.14 in /Users/apple/opt/anaconda3/lib/python3.9/site-packages (from trio-websocket~=0.9->selenium) (1.1.0)\n",
      "Requirement already satisfied: pyOpenSSL>=0.14 in /Users/apple/opt/anaconda3/lib/python3.9/site-packages (from urllib3[secure,socks]~=1.26->selenium) (21.0.0)\n",
      "Requirement already satisfied: cryptography>=1.3.4 in /Users/apple/opt/anaconda3/lib/python3.9/site-packages (from urllib3[secure,socks]~=1.26->selenium) (3.4.8)\n",
      "Requirement already satisfied: certifi in /Users/apple/opt/anaconda3/lib/python3.9/site-packages (from urllib3[secure,socks]~=1.26->selenium) (2021.10.8)\n",
      "Requirement already satisfied: PySocks!=1.5.7,<2.0,>=1.5.6 in /Users/apple/opt/anaconda3/lib/python3.9/site-packages (from urllib3[secure,socks]~=1.26->selenium) (1.7.1)\n",
      "Requirement already satisfied: cffi>=1.12 in /Users/apple/opt/anaconda3/lib/python3.9/site-packages (from cryptography>=1.3.4->urllib3[secure,socks]~=1.26->selenium) (1.14.6)\n",
      "Requirement already satisfied: six>=1.5.2 in /Users/apple/opt/anaconda3/lib/python3.9/site-packages (from pyOpenSSL>=0.14->urllib3[secure,socks]~=1.26->selenium) (1.16.0)\n",
      "Requirement already satisfied: h11<1,>=0.9.0 in /Users/apple/opt/anaconda3/lib/python3.9/site-packages (from wsproto>=0.14->trio-websocket~=0.9->selenium) (0.13.0)\n",
      "Requirement already satisfied: pycparser in /Users/apple/opt/anaconda3/lib/python3.9/site-packages (from cffi>=1.12->cryptography>=1.3.4->urllib3[secure,socks]~=1.26->selenium) (2.20)\n",
      "\u001b[33mWARNING: You are using pip version 22.0.4; however, version 22.1.1 is available.\n",
      "You should consider upgrading via the '/Users/apple/opt/anaconda3/bin/python -m pip install --upgrade pip' command.\u001b[0m\u001b[33m\n",
      "\u001b[0mzsh:1: command not found: apt-get\n",
      "The operation couldn’t be completed. Unable to locate a Java Runtime that supports apt.\n",
      "Please visit http://www.java.com for information on installing Java.\n",
      "\n"
     ]
    },
    {
     "ename": "SessionNotCreatedException",
     "evalue": "Message: session not created: This version of ChromeDriver only supports Chrome version 99\nCurrent browser version is 101.0.4951.64 with binary path /Applications/Google Chrome.app/Contents/MacOS/Google Chrome\nStacktrace:\n0   chromedriver                        0x000000010ebf9159 chromedriver + 5120345\n1   chromedriver                        0x000000010eb86b13 chromedriver + 4651795\n2   chromedriver                        0x000000010e776e68 chromedriver + 392808\n3   chromedriver                        0x000000010e79d1e6 chromedriver + 549350\n4   chromedriver                        0x000000010e798c72 chromedriver + 531570\n5   chromedriver                        0x000000010e7956ed chromedriver + 517869\n6   chromedriver                        0x000000010e7cf825 chromedriver + 755749\n7   chromedriver                        0x000000010e7c9a33 chromedriver + 731699\n8   chromedriver                        0x000000010e79f5dd chromedriver + 558557\n9   chromedriver                        0x000000010e7a04f5 chromedriver + 562421\n10  chromedriver                        0x000000010ebb638d chromedriver + 4846477\n11  chromedriver                        0x000000010ebd021c chromedriver + 4952604\n12  chromedriver                        0x000000010ebd5a12 chromedriver + 4975122\n13  chromedriver                        0x000000010ebd0b4a chromedriver + 4954954\n14  chromedriver                        0x000000010ebab5b0 chromedriver + 4801968\n15  chromedriver                        0x000000010ebeaf78 chromedriver + 5062520\n16  chromedriver                        0x000000010ebeb0ff chromedriver + 5062911\n17  chromedriver                        0x000000010ec00545 chromedriver + 5150021\n18  libsystem_pthread.dylib             0x00007ff80bb824e1 _pthread_start + 125\n19  libsystem_pthread.dylib             0x00007ff80bb7df6b thread_start + 15\n",
     "output_type": "error",
     "traceback": [
      "\u001b[0;31m---------------------------------------------------------------------------\u001b[0m",
      "\u001b[0;31mSessionNotCreatedException\u001b[0m                Traceback (most recent call last)",
      "\u001b[0;32m/var/folders/d2/ps9m0gd51mz84h38fqzd3q1h0000gn/T/ipykernel_93368/1185179960.py\u001b[0m in \u001b[0;36m<module>\u001b[0;34m\u001b[0m\n\u001b[1;32m     19\u001b[0m \u001b[0moptions\u001b[0m\u001b[0;34m.\u001b[0m\u001b[0madd_argument\u001b[0m\u001b[0;34m(\u001b[0m\u001b[0;34m'--no-sandbox'\u001b[0m\u001b[0;34m)\u001b[0m\u001b[0;34m\u001b[0m\u001b[0;34m\u001b[0m\u001b[0m\n\u001b[1;32m     20\u001b[0m \u001b[0moptions\u001b[0m\u001b[0;34m.\u001b[0m\u001b[0madd_argument\u001b[0m\u001b[0;34m(\u001b[0m\u001b[0;34m'--disable-dev-shm-usage'\u001b[0m\u001b[0;34m)\u001b[0m\u001b[0;34m\u001b[0m\u001b[0;34m\u001b[0m\u001b[0m\n\u001b[0;32m---> 21\u001b[0;31m \u001b[0mdriver\u001b[0m \u001b[0;34m=\u001b[0m \u001b[0mwebdriver\u001b[0m\u001b[0;34m.\u001b[0m\u001b[0mChrome\u001b[0m\u001b[0;34m(\u001b[0m\u001b[0;34m'chromedriver'\u001b[0m\u001b[0;34m,\u001b[0m \u001b[0moptions\u001b[0m\u001b[0;34m=\u001b[0m\u001b[0moptions\u001b[0m\u001b[0;34m)\u001b[0m\u001b[0;34m\u001b[0m\u001b[0;34m\u001b[0m\u001b[0m\n\u001b[0m",
      "\u001b[0;32m~/opt/anaconda3/lib/python3.9/site-packages/selenium/webdriver/chrome/webdriver.py\u001b[0m in \u001b[0;36m__init__\u001b[0;34m(self, executable_path, port, options, service_args, desired_capabilities, service_log_path, chrome_options, service, keep_alive)\u001b[0m\n\u001b[1;32m     68\u001b[0m             \u001b[0mservice\u001b[0m \u001b[0;34m=\u001b[0m \u001b[0mService\u001b[0m\u001b[0;34m(\u001b[0m\u001b[0mexecutable_path\u001b[0m\u001b[0;34m,\u001b[0m \u001b[0mport\u001b[0m\u001b[0;34m,\u001b[0m \u001b[0mservice_args\u001b[0m\u001b[0;34m,\u001b[0m \u001b[0mservice_log_path\u001b[0m\u001b[0;34m)\u001b[0m\u001b[0;34m\u001b[0m\u001b[0;34m\u001b[0m\u001b[0m\n\u001b[1;32m     69\u001b[0m \u001b[0;34m\u001b[0m\u001b[0m\n\u001b[0;32m---> 70\u001b[0;31m         super(WebDriver, self).__init__(DesiredCapabilities.CHROME['browserName'], \"goog\",\n\u001b[0m\u001b[1;32m     71\u001b[0m                                         \u001b[0mport\u001b[0m\u001b[0;34m,\u001b[0m \u001b[0moptions\u001b[0m\u001b[0;34m,\u001b[0m\u001b[0;34m\u001b[0m\u001b[0;34m\u001b[0m\u001b[0m\n\u001b[1;32m     72\u001b[0m                                         \u001b[0mservice_args\u001b[0m\u001b[0;34m,\u001b[0m \u001b[0mdesired_capabilities\u001b[0m\u001b[0;34m,\u001b[0m\u001b[0;34m\u001b[0m\u001b[0;34m\u001b[0m\u001b[0m\n",
      "\u001b[0;32m~/opt/anaconda3/lib/python3.9/site-packages/selenium/webdriver/chromium/webdriver.py\u001b[0m in \u001b[0;36m__init__\u001b[0;34m(self, browser_name, vendor_prefix, port, options, service_args, desired_capabilities, service_log_path, service, keep_alive)\u001b[0m\n\u001b[1;32m     91\u001b[0m \u001b[0;34m\u001b[0m\u001b[0m\n\u001b[1;32m     92\u001b[0m         \u001b[0;32mtry\u001b[0m\u001b[0;34m:\u001b[0m\u001b[0;34m\u001b[0m\u001b[0;34m\u001b[0m\u001b[0m\n\u001b[0;32m---> 93\u001b[0;31m             RemoteWebDriver.__init__(\n\u001b[0m\u001b[1;32m     94\u001b[0m                 \u001b[0mself\u001b[0m\u001b[0;34m,\u001b[0m\u001b[0;34m\u001b[0m\u001b[0;34m\u001b[0m\u001b[0m\n\u001b[1;32m     95\u001b[0m                 command_executor=ChromiumRemoteConnection(\n",
      "\u001b[0;32m~/opt/anaconda3/lib/python3.9/site-packages/selenium/webdriver/remote/webdriver.py\u001b[0m in \u001b[0;36m__init__\u001b[0;34m(self, command_executor, desired_capabilities, browser_profile, proxy, keep_alive, file_detector, options)\u001b[0m\n\u001b[1;32m    267\u001b[0m         \u001b[0mself\u001b[0m\u001b[0;34m.\u001b[0m\u001b[0mfile_detector\u001b[0m \u001b[0;34m=\u001b[0m \u001b[0mfile_detector\u001b[0m \u001b[0;32mor\u001b[0m \u001b[0mLocalFileDetector\u001b[0m\u001b[0;34m(\u001b[0m\u001b[0;34m)\u001b[0m\u001b[0;34m\u001b[0m\u001b[0;34m\u001b[0m\u001b[0m\n\u001b[1;32m    268\u001b[0m         \u001b[0mself\u001b[0m\u001b[0;34m.\u001b[0m\u001b[0mstart_client\u001b[0m\u001b[0;34m(\u001b[0m\u001b[0;34m)\u001b[0m\u001b[0;34m\u001b[0m\u001b[0;34m\u001b[0m\u001b[0m\n\u001b[0;32m--> 269\u001b[0;31m         \u001b[0mself\u001b[0m\u001b[0;34m.\u001b[0m\u001b[0mstart_session\u001b[0m\u001b[0;34m(\u001b[0m\u001b[0mcapabilities\u001b[0m\u001b[0;34m,\u001b[0m \u001b[0mbrowser_profile\u001b[0m\u001b[0;34m)\u001b[0m\u001b[0;34m\u001b[0m\u001b[0;34m\u001b[0m\u001b[0m\n\u001b[0m\u001b[1;32m    270\u001b[0m \u001b[0;34m\u001b[0m\u001b[0m\n\u001b[1;32m    271\u001b[0m     \u001b[0;32mdef\u001b[0m \u001b[0m__repr__\u001b[0m\u001b[0;34m(\u001b[0m\u001b[0mself\u001b[0m\u001b[0;34m)\u001b[0m\u001b[0;34m:\u001b[0m\u001b[0;34m\u001b[0m\u001b[0;34m\u001b[0m\u001b[0m\n",
      "\u001b[0;32m~/opt/anaconda3/lib/python3.9/site-packages/selenium/webdriver/remote/webdriver.py\u001b[0m in \u001b[0;36mstart_session\u001b[0;34m(self, capabilities, browser_profile)\u001b[0m\n\u001b[1;32m    358\u001b[0m         parameters = {\"capabilities\": w3c_caps,\n\u001b[1;32m    359\u001b[0m                       \"desiredCapabilities\": capabilities}\n\u001b[0;32m--> 360\u001b[0;31m         \u001b[0mresponse\u001b[0m \u001b[0;34m=\u001b[0m \u001b[0mself\u001b[0m\u001b[0;34m.\u001b[0m\u001b[0mexecute\u001b[0m\u001b[0;34m(\u001b[0m\u001b[0mCommand\u001b[0m\u001b[0;34m.\u001b[0m\u001b[0mNEW_SESSION\u001b[0m\u001b[0;34m,\u001b[0m \u001b[0mparameters\u001b[0m\u001b[0;34m)\u001b[0m\u001b[0;34m\u001b[0m\u001b[0;34m\u001b[0m\u001b[0m\n\u001b[0m\u001b[1;32m    361\u001b[0m         \u001b[0;32mif\u001b[0m \u001b[0;34m'sessionId'\u001b[0m \u001b[0;32mnot\u001b[0m \u001b[0;32min\u001b[0m \u001b[0mresponse\u001b[0m\u001b[0;34m:\u001b[0m\u001b[0;34m\u001b[0m\u001b[0;34m\u001b[0m\u001b[0m\n\u001b[1;32m    362\u001b[0m             \u001b[0mresponse\u001b[0m \u001b[0;34m=\u001b[0m \u001b[0mresponse\u001b[0m\u001b[0;34m[\u001b[0m\u001b[0;34m'value'\u001b[0m\u001b[0;34m]\u001b[0m\u001b[0;34m\u001b[0m\u001b[0;34m\u001b[0m\u001b[0m\n",
      "\u001b[0;32m~/opt/anaconda3/lib/python3.9/site-packages/selenium/webdriver/remote/webdriver.py\u001b[0m in \u001b[0;36mexecute\u001b[0;34m(self, driver_command, params)\u001b[0m\n\u001b[1;32m    423\u001b[0m         \u001b[0mresponse\u001b[0m \u001b[0;34m=\u001b[0m \u001b[0mself\u001b[0m\u001b[0;34m.\u001b[0m\u001b[0mcommand_executor\u001b[0m\u001b[0;34m.\u001b[0m\u001b[0mexecute\u001b[0m\u001b[0;34m(\u001b[0m\u001b[0mdriver_command\u001b[0m\u001b[0;34m,\u001b[0m \u001b[0mparams\u001b[0m\u001b[0;34m)\u001b[0m\u001b[0;34m\u001b[0m\u001b[0;34m\u001b[0m\u001b[0m\n\u001b[1;32m    424\u001b[0m         \u001b[0;32mif\u001b[0m \u001b[0mresponse\u001b[0m\u001b[0;34m:\u001b[0m\u001b[0;34m\u001b[0m\u001b[0;34m\u001b[0m\u001b[0m\n\u001b[0;32m--> 425\u001b[0;31m             \u001b[0mself\u001b[0m\u001b[0;34m.\u001b[0m\u001b[0merror_handler\u001b[0m\u001b[0;34m.\u001b[0m\u001b[0mcheck_response\u001b[0m\u001b[0;34m(\u001b[0m\u001b[0mresponse\u001b[0m\u001b[0;34m)\u001b[0m\u001b[0;34m\u001b[0m\u001b[0;34m\u001b[0m\u001b[0m\n\u001b[0m\u001b[1;32m    426\u001b[0m             response['value'] = self._unwrap_value(\n\u001b[1;32m    427\u001b[0m                 response.get('value', None))\n",
      "\u001b[0;32m~/opt/anaconda3/lib/python3.9/site-packages/selenium/webdriver/remote/errorhandler.py\u001b[0m in \u001b[0;36mcheck_response\u001b[0;34m(self, response)\u001b[0m\n\u001b[1;32m    245\u001b[0m                 \u001b[0malert_text\u001b[0m \u001b[0;34m=\u001b[0m \u001b[0mvalue\u001b[0m\u001b[0;34m[\u001b[0m\u001b[0;34m'alert'\u001b[0m\u001b[0;34m]\u001b[0m\u001b[0;34m.\u001b[0m\u001b[0mget\u001b[0m\u001b[0;34m(\u001b[0m\u001b[0;34m'text'\u001b[0m\u001b[0;34m)\u001b[0m\u001b[0;34m\u001b[0m\u001b[0;34m\u001b[0m\u001b[0m\n\u001b[1;32m    246\u001b[0m             \u001b[0;32mraise\u001b[0m \u001b[0mexception_class\u001b[0m\u001b[0;34m(\u001b[0m\u001b[0mmessage\u001b[0m\u001b[0;34m,\u001b[0m \u001b[0mscreen\u001b[0m\u001b[0;34m,\u001b[0m \u001b[0mstacktrace\u001b[0m\u001b[0;34m,\u001b[0m \u001b[0malert_text\u001b[0m\u001b[0;34m)\u001b[0m  \u001b[0;31m# type: ignore[call-arg]  # mypy is not smart enough here\u001b[0m\u001b[0;34m\u001b[0m\u001b[0;34m\u001b[0m\u001b[0m\n\u001b[0;32m--> 247\u001b[0;31m         \u001b[0;32mraise\u001b[0m \u001b[0mexception_class\u001b[0m\u001b[0;34m(\u001b[0m\u001b[0mmessage\u001b[0m\u001b[0;34m,\u001b[0m \u001b[0mscreen\u001b[0m\u001b[0;34m,\u001b[0m \u001b[0mstacktrace\u001b[0m\u001b[0;34m)\u001b[0m\u001b[0;34m\u001b[0m\u001b[0;34m\u001b[0m\u001b[0m\n\u001b[0m\u001b[1;32m    248\u001b[0m \u001b[0;34m\u001b[0m\u001b[0m\n\u001b[1;32m    249\u001b[0m     \u001b[0;32mdef\u001b[0m \u001b[0m_value_or_default\u001b[0m\u001b[0;34m(\u001b[0m\u001b[0mself\u001b[0m\u001b[0;34m,\u001b[0m \u001b[0mobj\u001b[0m\u001b[0;34m:\u001b[0m \u001b[0mMapping\u001b[0m\u001b[0;34m[\u001b[0m\u001b[0m_KT\u001b[0m\u001b[0;34m,\u001b[0m \u001b[0m_VT\u001b[0m\u001b[0;34m]\u001b[0m\u001b[0;34m,\u001b[0m \u001b[0mkey\u001b[0m\u001b[0;34m:\u001b[0m \u001b[0m_KT\u001b[0m\u001b[0;34m,\u001b[0m \u001b[0mdefault\u001b[0m\u001b[0;34m:\u001b[0m \u001b[0m_VT\u001b[0m\u001b[0;34m)\u001b[0m \u001b[0;34m->\u001b[0m \u001b[0m_VT\u001b[0m\u001b[0;34m:\u001b[0m\u001b[0;34m\u001b[0m\u001b[0;34m\u001b[0m\u001b[0m\n",
      "\u001b[0;31mSessionNotCreatedException\u001b[0m: Message: session not created: This version of ChromeDriver only supports Chrome version 99\nCurrent browser version is 101.0.4951.64 with binary path /Applications/Google Chrome.app/Contents/MacOS/Google Chrome\nStacktrace:\n0   chromedriver                        0x000000010ebf9159 chromedriver + 5120345\n1   chromedriver                        0x000000010eb86b13 chromedriver + 4651795\n2   chromedriver                        0x000000010e776e68 chromedriver + 392808\n3   chromedriver                        0x000000010e79d1e6 chromedriver + 549350\n4   chromedriver                        0x000000010e798c72 chromedriver + 531570\n5   chromedriver                        0x000000010e7956ed chromedriver + 517869\n6   chromedriver                        0x000000010e7cf825 chromedriver + 755749\n7   chromedriver                        0x000000010e7c9a33 chromedriver + 731699\n8   chromedriver                        0x000000010e79f5dd chromedriver + 558557\n9   chromedriver                        0x000000010e7a04f5 chromedriver + 562421\n10  chromedriver                        0x000000010ebb638d chromedriver + 4846477\n11  chromedriver                        0x000000010ebd021c chromedriver + 4952604\n12  chromedriver                        0x000000010ebd5a12 chromedriver + 4975122\n13  chromedriver                        0x000000010ebd0b4a chromedriver + 4954954\n14  chromedriver                        0x000000010ebab5b0 chromedriver + 4801968\n15  chromedriver                        0x000000010ebeaf78 chromedriver + 5062520\n16  chromedriver                        0x000000010ebeb0ff chromedriver + 5062911\n17  chromedriver                        0x000000010ec00545 chromedriver + 5150021\n18  libsystem_pthread.dylib             0x00007ff80bb824e1 _pthread_start + 125\n19  libsystem_pthread.dylib             0x00007ff80bb7df6b thread_start + 15\n"
     ]
    }
   ],
   "source": [
    "import matplotlib.pyplot as plt \n",
    "import pandas as pd\n",
    "import numpy as np\n",
    "from bs4 import BeautifulSoup\n",
    "import requests\n",
    "import re\n",
    "import time\n",
    "from selenium import webdriver\n",
    "import seaborn as sns\n",
    "import numpy as np\n",
    "import matplotlib.cm as cm \n",
    "\n",
    "!pip install selenium\n",
    "!apt-get update\n",
    "!apt install chromium-chromedriver\n",
    "\n",
    "options = webdriver.ChromeOptions()\n",
    "options.add_argument('--headless')        # Head-less 설정\n",
    "options.add_argument('--no-sandbox')\n",
    "options.add_argument('--disable-dev-shm-usage')\n",
    "driver = webdriver.Chrome('chromedriver', options=options)"
   ]
  },
  {
   "cell_type": "code",
   "execution_count": 80,
   "id": "d0d8301a",
   "metadata": {},
   "outputs": [],
   "source": [
    "from matplotlib import rc\n",
    "\n",
    "rc('font', family='AppleGothic')\n",
    "plt.rcParams['axes.unicode_minus'] = False"
   ]
  },
  {
   "cell_type": "code",
   "execution_count": 81,
   "id": "73b072bb",
   "metadata": {},
   "outputs": [],
   "source": [
    "url = 'http://buking.kr/rank.php?m=mg&st=md&gi=1&si=%EC%84%9C%EC%9A%B8'\n",
    "html = requests.get(url)\n",
    "bs = BeautifulSoup(html.content, \"html.parser\")\n",
    "location = bs.find(\"td\", {'class' : \"td2 ilink\"})\n",
    "money = bs.find(\"td\", {'class' : \"td2rp\"})"
   ]
  },
  {
   "cell_type": "code",
   "execution_count": 82,
   "id": "63ff92b4",
   "metadata": {},
   "outputs": [],
   "source": [
    "cnt = 2\n",
    "location = str(location).split('>')\n",
    "value = {}\n",
    "for i in location :\n",
    "    key = location[cnt].split('<')[0][3:]\n",
    "    value[key] = [int(location[cnt+4].split('<')[0])]\n",
    "    if(location[cnt].split('<')[0][3:]) == '도봉구' : break\n",
    "    cnt += 18"
   ]
  },
  {
   "cell_type": "code",
   "execution_count": 83,
   "id": "8c748863",
   "metadata": {},
   "outputs": [
    {
     "data": {
      "text/plain": [
       "[4974]"
      ]
     },
     "execution_count": 83,
     "metadata": {},
     "output_type": "execute_result"
    }
   ],
   "source": [
    "value['강남구']"
   ]
  },
  {
   "cell_type": "code",
   "execution_count": 84,
   "id": "f0ca659e",
   "metadata": {},
   "outputs": [],
   "source": [
    "data = pd.read_csv('data/우리동네키움센터 .csv', encoding='cp949')\n",
    "data1 = pd.read_csv('data/지역아동센터 시설현황정보 .csv', encoding='cp949')"
   ]
  },
  {
   "cell_type": "code",
   "execution_count": 85,
   "id": "5c813a96",
   "metadata": {},
   "outputs": [],
   "source": [
    "for i in range(len(data['자치구명'].unique())) :\n",
    "    index = str(data['자치구명'].value_counts().index[i])\n",
    "    value1 = int(data['자치구명'].value_counts()[i])\n",
    "    \n",
    "    value[index].append(value1)\n",
    "\n",
    "\n",
    "for i in range(len(data1['자치구명'].unique())) :\n",
    "    index = str(data1['자치구명'].value_counts().index[i])\n",
    "    value1 = int(data1['자치구명'].value_counts()[i])\n",
    "    \n",
    "    value[index].append(value1)\n"
   ]
  },
  {
   "cell_type": "code",
   "execution_count": 86,
   "id": "edadeeac",
   "metadata": {},
   "outputs": [],
   "source": [
    "for i in value.keys() :\n",
    "    value[i].append(value[i][1] + value[i][2])"
   ]
  },
  {
   "cell_type": "code",
   "execution_count": 87,
   "id": "2df60a12",
   "metadata": {},
   "outputs": [
    {
     "data": {
      "text/plain": [
       "{'강남구': [4974, 7, 4, 11],\n",
       " '서초구': [4687, 6, 11, 17],\n",
       " '용산구': [4002, 7, 5, 12],\n",
       " '성동구': [3839, 11, 12, 23],\n",
       " '송파구': [3545, 16, 19, 35],\n",
       " '마포구': [3290, 7, 11, 18],\n",
       " '광진구': [3248, 10, 13, 23],\n",
       " '동작구': [3033, 13, 22, 35],\n",
       " '영등포구': [2969, 12, 17, 29],\n",
       " '양천구': [2897, 3, 24, 27],\n",
       " '중구': [2738, 7, 4, 11],\n",
       " '강동구': [2738, 6, 23, 29],\n",
       " '종로구': [2733, 6, 12, 18],\n",
       " '서대문구': [2602, 7, 7, 14],\n",
       " '성북구': [2437, 10, 27, 37],\n",
       " '동대문구': [2384, 4, 14, 18],\n",
       " '강서구': [2332, 4, 20, 24],\n",
       " '노원구': [2154, 28, 24, 52],\n",
       " '관악구': [2137, 2, 27, 29],\n",
       " '은평구': [2036, 9, 27, 36],\n",
       " '구로구': [1953, 17, 24, 41],\n",
       " '강북구': [1952, 3, 21, 24],\n",
       " '중랑구': [1938, 3, 23, 26],\n",
       " '금천구': [1871, 3, 27, 30],\n",
       " '도봉구': [1728, 6, 17, 23]}"
      ]
     },
     "execution_count": 87,
     "metadata": {},
     "output_type": "execute_result"
    }
   ],
   "source": [
    "value"
   ]
  },
  {
   "cell_type": "code",
   "execution_count": 88,
   "id": "bbb1e203",
   "metadata": {},
   "outputs": [
    {
     "data": {
      "text/html": [
       "<div>\n",
       "<style scoped>\n",
       "    .dataframe tbody tr th:only-of-type {\n",
       "        vertical-align: middle;\n",
       "    }\n",
       "\n",
       "    .dataframe tbody tr th {\n",
       "        vertical-align: top;\n",
       "    }\n",
       "\n",
       "    .dataframe thead th {\n",
       "        text-align: right;\n",
       "    }\n",
       "</style>\n",
       "<table border=\"1\" class=\"dataframe\">\n",
       "  <thead>\n",
       "    <tr style=\"text-align: right;\">\n",
       "      <th></th>\n",
       "      <th>Unnamed: 0</th>\n",
       "      <th>첫째</th>\n",
       "      <th>둘째</th>\n",
       "    </tr>\n",
       "  </thead>\n",
       "  <tbody>\n",
       "    <tr>\n",
       "      <th>0</th>\n",
       "      <td>강남구</td>\n",
       "      <td>30</td>\n",
       "      <td>100</td>\n",
       "    </tr>\n",
       "    <tr>\n",
       "      <th>1</th>\n",
       "      <td>강동구</td>\n",
       "      <td>20</td>\n",
       "      <td>30</td>\n",
       "    </tr>\n",
       "    <tr>\n",
       "      <th>2</th>\n",
       "      <td>강북구</td>\n",
       "      <td>0</td>\n",
       "      <td>30</td>\n",
       "    </tr>\n",
       "    <tr>\n",
       "      <th>3</th>\n",
       "      <td>강서구</td>\n",
       "      <td>0</td>\n",
       "      <td>30</td>\n",
       "    </tr>\n",
       "    <tr>\n",
       "      <th>4</th>\n",
       "      <td>관악구</td>\n",
       "      <td>10</td>\n",
       "      <td>20</td>\n",
       "    </tr>\n",
       "    <tr>\n",
       "      <th>5</th>\n",
       "      <td>광진구</td>\n",
       "      <td>10</td>\n",
       "      <td>30</td>\n",
       "    </tr>\n",
       "    <tr>\n",
       "      <th>6</th>\n",
       "      <td>구로구</td>\n",
       "      <td>0</td>\n",
       "      <td>30</td>\n",
       "    </tr>\n",
       "    <tr>\n",
       "      <th>7</th>\n",
       "      <td>금천구</td>\n",
       "      <td>30</td>\n",
       "      <td>50</td>\n",
       "    </tr>\n",
       "    <tr>\n",
       "      <th>8</th>\n",
       "      <td>노원구</td>\n",
       "      <td>0</td>\n",
       "      <td>20</td>\n",
       "    </tr>\n",
       "    <tr>\n",
       "      <th>9</th>\n",
       "      <td>도봉구</td>\n",
       "      <td>10</td>\n",
       "      <td>30</td>\n",
       "    </tr>\n",
       "    <tr>\n",
       "      <th>10</th>\n",
       "      <td>동대문구</td>\n",
       "      <td>30</td>\n",
       "      <td>60</td>\n",
       "    </tr>\n",
       "    <tr>\n",
       "      <th>11</th>\n",
       "      <td>동작구</td>\n",
       "      <td>30</td>\n",
       "      <td>50</td>\n",
       "    </tr>\n",
       "    <tr>\n",
       "      <th>12</th>\n",
       "      <td>마포구</td>\n",
       "      <td>10</td>\n",
       "      <td>50</td>\n",
       "    </tr>\n",
       "    <tr>\n",
       "      <th>13</th>\n",
       "      <td>서대문구</td>\n",
       "      <td>10</td>\n",
       "      <td>20</td>\n",
       "    </tr>\n",
       "    <tr>\n",
       "      <th>14</th>\n",
       "      <td>서초구</td>\n",
       "      <td>30</td>\n",
       "      <td>50</td>\n",
       "    </tr>\n",
       "    <tr>\n",
       "      <th>15</th>\n",
       "      <td>성동구</td>\n",
       "      <td>0</td>\n",
       "      <td>20</td>\n",
       "    </tr>\n",
       "    <tr>\n",
       "      <th>16</th>\n",
       "      <td>성북구</td>\n",
       "      <td>10</td>\n",
       "      <td>30</td>\n",
       "    </tr>\n",
       "    <tr>\n",
       "      <th>17</th>\n",
       "      <td>송파구</td>\n",
       "      <td>0</td>\n",
       "      <td>30</td>\n",
       "    </tr>\n",
       "    <tr>\n",
       "      <th>18</th>\n",
       "      <td>양천구</td>\n",
       "      <td>0</td>\n",
       "      <td>50</td>\n",
       "    </tr>\n",
       "    <tr>\n",
       "      <th>19</th>\n",
       "      <td>영등포구</td>\n",
       "      <td>10</td>\n",
       "      <td>50</td>\n",
       "    </tr>\n",
       "    <tr>\n",
       "      <th>20</th>\n",
       "      <td>용산구</td>\n",
       "      <td>50</td>\n",
       "      <td>70</td>\n",
       "    </tr>\n",
       "    <tr>\n",
       "      <th>21</th>\n",
       "      <td>은평구</td>\n",
       "      <td>10</td>\n",
       "      <td>35</td>\n",
       "    </tr>\n",
       "    <tr>\n",
       "      <th>22</th>\n",
       "      <td>종로구</td>\n",
       "      <td>30</td>\n",
       "      <td>100</td>\n",
       "    </tr>\n",
       "    <tr>\n",
       "      <th>23</th>\n",
       "      <td>중구</td>\n",
       "      <td>30</td>\n",
       "      <td>100</td>\n",
       "    </tr>\n",
       "    <tr>\n",
       "      <th>24</th>\n",
       "      <td>중랑구</td>\n",
       "      <td>10</td>\n",
       "      <td>50</td>\n",
       "    </tr>\n",
       "  </tbody>\n",
       "</table>\n",
       "</div>"
      ],
      "text/plain": [
       "   Unnamed: 0  첫째   둘째\n",
       "0         강남구  30  100\n",
       "1         강동구  20   30\n",
       "2         강북구   0   30\n",
       "3         강서구   0   30\n",
       "4         관악구  10   20\n",
       "5         광진구  10   30\n",
       "6         구로구   0   30\n",
       "7         금천구  30   50\n",
       "8         노원구   0   20\n",
       "9         도봉구  10   30\n",
       "10       동대문구  30   60\n",
       "11        동작구  30   50\n",
       "12        마포구  10   50\n",
       "13       서대문구  10   20\n",
       "14        서초구  30   50\n",
       "15        성동구   0   20\n",
       "16        성북구  10   30\n",
       "17        송파구   0   30\n",
       "18        양천구   0   50\n",
       "19       영등포구  10   50\n",
       "20        용산구  50   70\n",
       "21        은평구  10   35\n",
       "22        종로구  30  100\n",
       "23         중구  30  100\n",
       "24        중랑구  10   50"
      ]
     },
     "execution_count": 88,
     "metadata": {},
     "output_type": "execute_result"
    }
   ],
   "source": [
    "data2 = pd.read_csv('data/childbirth_subsidy.csv')\n",
    "data2"
   ]
  },
  {
   "cell_type": "code",
   "execution_count": 89,
   "id": "4f80e965",
   "metadata": {},
   "outputs": [
    {
     "data": {
      "text/plain": [
       "pandas.core.frame.DataFrame"
      ]
     },
     "execution_count": 89,
     "metadata": {},
     "output_type": "execute_result"
    }
   ],
   "source": [
    "data2['합계'] = 0\n",
    "for i in range(len(data2)) :\n",
    "    data2.iloc[i,3] = data2.iloc[i,1] + data2.iloc[i,2]\n",
    "type(data2)"
   ]
  },
  {
   "cell_type": "code",
   "execution_count": 90,
   "id": "495a86a5",
   "metadata": {},
   "outputs": [],
   "source": [
    "data2.columns = ['자치구명', '첫째', '둘째', '합계']"
   ]
  },
  {
   "cell_type": "code",
   "execution_count": 91,
   "id": "e30859a2",
   "metadata": {},
   "outputs": [],
   "source": [
    "for i in range(len(data2['자치구명'].unique())) :\n",
    "    index = str(data2['자치구명'].value_counts().index[i])\n",
    "#     print(index)\n",
    "    value1 = data2[data2['자치구명'] == index]['합계'].values[0]\n",
    "#     print(value1)\n",
    "    value[index].append(value1)"
   ]
  },
  {
   "cell_type": "code",
   "execution_count": 92,
   "id": "4c470fb0",
   "metadata": {},
   "outputs": [
    {
     "data": {
      "text/plain": [
       "{'강남구': [4974, 7, 4, 11, 130],\n",
       " '서초구': [4687, 6, 11, 17, 80],\n",
       " '용산구': [4002, 7, 5, 12, 120],\n",
       " '성동구': [3839, 11, 12, 23, 20],\n",
       " '송파구': [3545, 16, 19, 35, 30],\n",
       " '마포구': [3290, 7, 11, 18, 60],\n",
       " '광진구': [3248, 10, 13, 23, 40],\n",
       " '동작구': [3033, 13, 22, 35, 80],\n",
       " '영등포구': [2969, 12, 17, 29, 60],\n",
       " '양천구': [2897, 3, 24, 27, 50],\n",
       " '중구': [2738, 7, 4, 11, 130],\n",
       " '강동구': [2738, 6, 23, 29, 50],\n",
       " '종로구': [2733, 6, 12, 18, 130],\n",
       " '서대문구': [2602, 7, 7, 14, 30],\n",
       " '성북구': [2437, 10, 27, 37, 40],\n",
       " '동대문구': [2384, 4, 14, 18, 90],\n",
       " '강서구': [2332, 4, 20, 24, 30],\n",
       " '노원구': [2154, 28, 24, 52, 20],\n",
       " '관악구': [2137, 2, 27, 29, 30],\n",
       " '은평구': [2036, 9, 27, 36, 45],\n",
       " '구로구': [1953, 17, 24, 41, 30],\n",
       " '강북구': [1952, 3, 21, 24, 30],\n",
       " '중랑구': [1938, 3, 23, 26, 60],\n",
       " '금천구': [1871, 3, 27, 30, 80],\n",
       " '도봉구': [1728, 6, 17, 23, 40]}"
      ]
     },
     "execution_count": 92,
     "metadata": {},
     "output_type": "execute_result"
    }
   ],
   "source": [
    "value"
   ]
  },
  {
   "cell_type": "code",
   "execution_count": 93,
   "id": "cfcec971",
   "metadata": {},
   "outputs": [
    {
     "data": {
      "text/html": [
       "<div>\n",
       "<style scoped>\n",
       "    .dataframe tbody tr th:only-of-type {\n",
       "        vertical-align: middle;\n",
       "    }\n",
       "\n",
       "    .dataframe tbody tr th {\n",
       "        vertical-align: top;\n",
       "    }\n",
       "\n",
       "    .dataframe thead th {\n",
       "        text-align: right;\n",
       "    }\n",
       "</style>\n",
       "<table border=\"1\" class=\"dataframe\">\n",
       "  <thead>\n",
       "    <tr style=\"text-align: right;\">\n",
       "      <th></th>\n",
       "      <th>자치구명</th>\n",
       "      <th>합계출산율</th>\n",
       "    </tr>\n",
       "  </thead>\n",
       "  <tbody>\n",
       "    <tr>\n",
       "      <th>1</th>\n",
       "      <td>종로구</td>\n",
       "      <td>0.522</td>\n",
       "    </tr>\n",
       "    <tr>\n",
       "      <th>2</th>\n",
       "      <td>중구</td>\n",
       "      <td>0.688</td>\n",
       "    </tr>\n",
       "    <tr>\n",
       "      <th>3</th>\n",
       "      <td>용산구</td>\n",
       "      <td>0.634</td>\n",
       "    </tr>\n",
       "    <tr>\n",
       "      <th>4</th>\n",
       "      <td>성동구</td>\n",
       "      <td>0.783</td>\n",
       "    </tr>\n",
       "    <tr>\n",
       "      <th>5</th>\n",
       "      <td>광진구</td>\n",
       "      <td>0.527</td>\n",
       "    </tr>\n",
       "    <tr>\n",
       "      <th>6</th>\n",
       "      <td>동대문구</td>\n",
       "      <td>0.699</td>\n",
       "    </tr>\n",
       "    <tr>\n",
       "      <th>7</th>\n",
       "      <td>중랑구</td>\n",
       "      <td>0.660</td>\n",
       "    </tr>\n",
       "    <tr>\n",
       "      <th>8</th>\n",
       "      <td>성북구</td>\n",
       "      <td>0.676</td>\n",
       "    </tr>\n",
       "    <tr>\n",
       "      <th>9</th>\n",
       "      <td>강북구</td>\n",
       "      <td>0.550</td>\n",
       "    </tr>\n",
       "    <tr>\n",
       "      <th>10</th>\n",
       "      <td>도봉구</td>\n",
       "      <td>0.601</td>\n",
       "    </tr>\n",
       "    <tr>\n",
       "      <th>11</th>\n",
       "      <td>노원구</td>\n",
       "      <td>0.695</td>\n",
       "    </tr>\n",
       "    <tr>\n",
       "      <th>12</th>\n",
       "      <td>은평구</td>\n",
       "      <td>0.623</td>\n",
       "    </tr>\n",
       "    <tr>\n",
       "      <th>13</th>\n",
       "      <td>서대문구</td>\n",
       "      <td>0.685</td>\n",
       "    </tr>\n",
       "    <tr>\n",
       "      <th>14</th>\n",
       "      <td>마포구</td>\n",
       "      <td>0.594</td>\n",
       "    </tr>\n",
       "    <tr>\n",
       "      <th>15</th>\n",
       "      <td>양천구</td>\n",
       "      <td>0.644</td>\n",
       "    </tr>\n",
       "    <tr>\n",
       "      <th>16</th>\n",
       "      <td>강서구</td>\n",
       "      <td>0.675</td>\n",
       "    </tr>\n",
       "    <tr>\n",
       "      <th>17</th>\n",
       "      <td>구로구</td>\n",
       "      <td>0.737</td>\n",
       "    </tr>\n",
       "    <tr>\n",
       "      <th>18</th>\n",
       "      <td>금천구</td>\n",
       "      <td>0.668</td>\n",
       "    </tr>\n",
       "    <tr>\n",
       "      <th>19</th>\n",
       "      <td>영등포구</td>\n",
       "      <td>0.705</td>\n",
       "    </tr>\n",
       "    <tr>\n",
       "      <th>20</th>\n",
       "      <td>동작구</td>\n",
       "      <td>0.655</td>\n",
       "    </tr>\n",
       "    <tr>\n",
       "      <th>21</th>\n",
       "      <td>관악구</td>\n",
       "      <td>0.474</td>\n",
       "    </tr>\n",
       "    <tr>\n",
       "      <th>22</th>\n",
       "      <td>서초구</td>\n",
       "      <td>0.656</td>\n",
       "    </tr>\n",
       "    <tr>\n",
       "      <th>23</th>\n",
       "      <td>강남구</td>\n",
       "      <td>0.537</td>\n",
       "    </tr>\n",
       "    <tr>\n",
       "      <th>24</th>\n",
       "      <td>송파구</td>\n",
       "      <td>0.665</td>\n",
       "    </tr>\n",
       "    <tr>\n",
       "      <th>25</th>\n",
       "      <td>강동구</td>\n",
       "      <td>0.748</td>\n",
       "    </tr>\n",
       "  </tbody>\n",
       "</table>\n",
       "</div>"
      ],
      "text/plain": [
       "    자치구명  합계출산율\n",
       "1    종로구  0.522\n",
       "2     중구  0.688\n",
       "3    용산구  0.634\n",
       "4    성동구  0.783\n",
       "5    광진구  0.527\n",
       "6   동대문구  0.699\n",
       "7    중랑구  0.660\n",
       "8    성북구  0.676\n",
       "9    강북구  0.550\n",
       "10   도봉구  0.601\n",
       "11   노원구  0.695\n",
       "12   은평구  0.623\n",
       "13  서대문구  0.685\n",
       "14   마포구  0.594\n",
       "15   양천구  0.644\n",
       "16   강서구  0.675\n",
       "17   구로구  0.737\n",
       "18   금천구  0.668\n",
       "19  영등포구  0.705\n",
       "20   동작구  0.655\n",
       "21   관악구  0.474\n",
       "22   서초구  0.656\n",
       "23   강남구  0.537\n",
       "24   송파구  0.665\n",
       "25   강동구  0.748"
      ]
     },
     "execution_count": 93,
     "metadata": {},
     "output_type": "execute_result"
    }
   ],
   "source": [
    "data3 = pd.read_csv('data/2020서울특별시_합계출산율.csv', encoding='cp949')\n",
    "data3 = data3.drop(0)\n",
    "data3 = data3.loc[:, ['시군구별', '합계출산율']]\n",
    "data3.columns = ['자치구명', '합계출산율']\n",
    "data3"
   ]
  },
  {
   "cell_type": "code",
   "execution_count": 94,
   "id": "2f6cdbbb",
   "metadata": {},
   "outputs": [
    {
     "data": {
      "text/plain": [
       "0.522"
      ]
     },
     "execution_count": 94,
     "metadata": {},
     "output_type": "execute_result"
    }
   ],
   "source": [
    "index = str(data3['자치구명'].value_counts().index[0])\n",
    "value1 = data3[data3['자치구명'] == index]['합계출산율'].values[0]\n",
    "value1"
   ]
  },
  {
   "cell_type": "code",
   "execution_count": 95,
   "id": "946613cd",
   "metadata": {},
   "outputs": [],
   "source": [
    "for i in range(len(data3['자치구명'])) :\n",
    "    index = str(data3['자치구명'].value_counts().index[i])\n",
    "    value1 = data3[data3['자치구명'] == index]['합계출산율'].values[0]\n",
    "    value[index].append(value1)"
   ]
  },
  {
   "cell_type": "code",
   "execution_count": 97,
   "id": "90d988bc",
   "metadata": {},
   "outputs": [
    {
     "data": {
      "text/plain": [
       "{'강남구': [4974, 7, 4, 11, 130, 0.537],\n",
       " '서초구': [4687, 6, 11, 17, 80, 0.656],\n",
       " '용산구': [4002, 7, 5, 12, 120, 0.634],\n",
       " '성동구': [3839, 11, 12, 23, 20, 0.783],\n",
       " '송파구': [3545, 16, 19, 35, 30, 0.665],\n",
       " '마포구': [3290, 7, 11, 18, 60, 0.594],\n",
       " '광진구': [3248, 10, 13, 23, 40, 0.527],\n",
       " '동작구': [3033, 13, 22, 35, 80, 0.655],\n",
       " '영등포구': [2969, 12, 17, 29, 60, 0.705],\n",
       " '양천구': [2897, 3, 24, 27, 50, 0.644],\n",
       " '중구': [2738, 7, 4, 11, 130, 0.688],\n",
       " '강동구': [2738, 6, 23, 29, 50, 0.748],\n",
       " '종로구': [2733, 6, 12, 18, 130, 0.522],\n",
       " '서대문구': [2602, 7, 7, 14, 30, 0.685],\n",
       " '성북구': [2437, 10, 27, 37, 40, 0.676],\n",
       " '동대문구': [2384, 4, 14, 18, 90, 0.699],\n",
       " '강서구': [2332, 4, 20, 24, 30, 0.675],\n",
       " '노원구': [2154, 28, 24, 52, 20, 0.695],\n",
       " '관악구': [2137, 2, 27, 29, 30, 0.474],\n",
       " '은평구': [2036, 9, 27, 36, 45, 0.623],\n",
       " '구로구': [1953, 17, 24, 41, 30, 0.737],\n",
       " '강북구': [1952, 3, 21, 24, 30, 0.55],\n",
       " '중랑구': [1938, 3, 23, 26, 60, 0.66],\n",
       " '금천구': [1871, 3, 27, 30, 80, 0.668],\n",
       " '도봉구': [1728, 6, 17, 23, 40, 0.601]}"
      ]
     },
     "execution_count": 97,
     "metadata": {},
     "output_type": "execute_result"
    }
   ],
   "source": [
    "# 평당단가, 우리동네키움센터, 지역아동센터, 구별_돌봄센터, 출산장려금, 출산율\n",
    "value"
   ]
  },
  {
   "cell_type": "code",
   "execution_count": 108,
   "id": "a124869d",
   "metadata": {},
   "outputs": [],
   "source": [
    "result = pd.DataFrame(value, index = ['평당단가', '우리동네키움센터', '지역아동센터', '구별_돌봄센터', '출산장려금', '출산율'])\n",
    "result = result.transpose()"
   ]
  },
  {
   "cell_type": "code",
   "execution_count": 110,
   "id": "4ad684dd",
   "metadata": {},
   "outputs": [
    {
     "data": {
      "image/png": "[encoded data removed]",
      "text/plain": [
       "<Figure size 1080x1080 with 42 Axes>"
      ]
     },
     "metadata": {
      "needs_background": "light"
     },
     "output_type": "display_data"
    }
   ],
   "source": [
    "sns.pairplot(result[['평당단가', '우리동네키움센터', '지역아동센터', '구별_돌봄센터', '출산장려금', '출산율']])\n",
    "plt.show()"
   ]
  },
  {
   "cell_type": "code",
   "execution_count": 112,
   "id": "59e4e8e5",
   "metadata": {},
   "outputs": [],
   "source": [
    "import statsmodels.api as sm\n",
    "model = sm.OLS.from_formula(\"출산율 ~ 평당단가 + 구별_돌봄센터 + 출산장려금\", data=result)\n",
    "result1 = model.fit()"
   ]
  },
  {
   "cell_type": "code",
   "execution_count": 114,
   "id": "538fbc50",
   "metadata": {},
   "outputs": [
    {
     "name": "stdout",
     "output_type": "stream",
     "text": [
      "                            OLS Regression Results                            \n",
      "==============================================================================\n",
      "Dep. Variable:                    출산율   R-squared:                       0.087\n",
      "Model:                            OLS   Adj. R-squared:                 -0.044\n",
      "Method:                 Least Squares   F-statistic:                    0.6649\n",
      "Date:                Mon, 30 May 2022   Prob (F-statistic):              0.583\n",
      "Time:                        14:52:14   Log-Likelihood:                 30.660\n",
      "No. Observations:                  25   AIC:                            -53.32\n",
      "Df Residuals:                      21   BIC:                            -48.44\n",
      "Df Model:                           3                                         \n",
      "Covariance Type:            nonrobust                                         \n",
      "==============================================================================\n",
      "                 coef    std err          t      P>|t|      [0.025      0.975]\n",
      "------------------------------------------------------------------------------\n",
      "Intercept      0.5822      0.104      5.616      0.000       0.367       0.798\n",
      "평당단가        1.041e-05    2.1e-05      0.495      0.626   -3.33e-05    5.42e-05\n",
      "구별_돌봄센터        0.0019      0.002      0.903      0.377      -0.002       0.006\n",
      "출산장려금         -0.0003      0.001     -0.455      0.654      -0.001       0.001\n",
      "==============================================================================\n",
      "Omnibus:                        1.811   Durbin-Watson:                   1.941\n",
      "Prob(Omnibus):                  0.404   Jarque-Bera (JB):                1.217\n",
      "Skew:                          -0.539   Prob(JB):                        0.544\n",
      "Kurtosis:                       2.911   Cond. No.                     1.97e+04\n",
      "==============================================================================\n",
      "\n",
      "Notes:\n",
      "[1] Standard Errors assume that the covariance matrix of the errors is correctly specified.\n",
      "[2] The condition number is large, 1.97e+04. This might indicate that there are\n",
      "strong multicollinearity or other numerical problems.\n"
     ]
    }
   ],
   "source": [
    "print(result1.summary())"
   ]
  },
  {
   "cell_type": "code",
   "execution_count": null,
   "id": "2d1fed11",
   "metadata": {},
   "outputs": [],
   "source": [
    "# R-squeared가 0.4 이상이고, p-value가 0.05 보다 작다면 유의한 결과가 나왔다고 할 수 있다."
   ]
  },
  {
   "cell_type": "code",
   "execution_count": 115,
   "id": "87424802",
   "metadata": {},
   "outputs": [],
   "source": [
    "model = sm.OLS.from_formula(\"평당단가 ~ 출산율\", data=result)\n",
    "result1 = model.fit()"
   ]
  },
  {
   "cell_type": "code",
   "execution_count": null,
   "id": "5342808a",
   "metadata": {},
   "outputs": [],
   "source": []
  }
 ],
 "metadata": {
  "kernelspec": {
   "display_name": "Python 3 (ipykernel)",
   "language": "python",
   "name": "python3"
  },
  "language_info": {
   "codemirror_mode": {
    "name": "ipython",
    "version": 3
   },
   "file_extension": ".py",
   "mimetype": "text/x-python",
   "name": "python",
   "nbconvert_exporter": "python",
   "pygments_lexer": "ipython3",
   "version": "3.9.7"
  }
 },
 "nbformat": 4,
 "nbformat_minor": 5
}
